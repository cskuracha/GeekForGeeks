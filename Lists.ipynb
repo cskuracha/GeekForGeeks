{
 "cells": [
  {
   "cell_type": "markdown",
   "metadata": {},
   "source": [
    "# Programs on Lists"
   ]
  },
  {
   "cell_type": "markdown",
   "metadata": {},
   "source": [
    "Python program to interchange first and last elements in a list\n",
    "\n",
    "Python program to swap two elements in a list\n",
    "\n",
    "Python program to remove Nth occurrence of the given word\n",
    "\n",
    "Python | Ways to find length of list\n",
    "\n",
    "Python | Ways to check if element exists in list\n",
    "\n",
    "Different ways to clear a list in Python\n",
    "\n",
    "Python | Reversing a List\n",
    "\n",
    "Python | Cloning or Copying a list\n",
    "\n",
    "Python | Count occurrences of an element in a list\n",
    "\n",
    "Python program to find sum of elements in list\n",
    "\n",
    "Python | Multiply all numbers in the list\n",
    "\n",
    "Python program to find smallest number in a list\n",
    "\n",
    "Python program to find largest number in a list\n",
    "\n",
    "Python program to find second largest number in a list\n",
    "\n",
    "Python program to find N largest elements from a list\n",
    "\n",
    "Python program to print even numbers in a list\n",
    "\n",
    "Python program to print odd numbers in a List\n",
    "\n",
    "Python program to print all even numbers in a range\n",
    "\n",
    "Python program to print all odd numbers in a range\n",
    "\n",
    "Python program to count Even and Odd numbers in a List\n",
    "\n",
    "Python program to print positive numbers in a list\n",
    "\n",
    "Python program to print negative numbers in a list\n",
    "\n",
    "Python program to print all positive numbers in a range\n",
    "\n",
    "Python program to print all negative numbers in a range\n",
    "\n",
    "Python program to count positive and negative numbers in a list\n",
    "\n",
    "Remove multiple elements from a list in Python\n",
    "\n",
    "Python | Remove empty tuples from a list\n",
    "\n",
    "Python | Program to print duplicates from a list of integers\n",
    "\n",
    "Python program to find Cumulative sum of a list\n",
    "\n",
    "Break a list into chunks of size N in Python\n",
    "\n",
    "Python | Sort the values of first list using second list"
   ]
  },
  {
   "cell_type": "markdown",
   "metadata": {},
   "source": [
    "## Interchange first and last elements in the list"
   ]
  },
  {
   "cell_type": "code",
   "execution_count": 8,
   "metadata": {},
   "outputs": [
    {
     "name": "stdout",
     "output_type": "stream",
     "text": [
      "List after performing interchange is [25, 2, 3, 4, 5, 6, 10, 20, 5, 3, 67, 1]\n"
     ]
    }
   ],
   "source": [
    "def interchangeList(num):\n",
    "    \"\"\"Function to return list after interchanging first and last elements\"\"\"\n",
    "    newList=[]\n",
    "    lList=len(num)\n",
    "    newList.append(num[lList-1])\n",
    "    for n in range(1,lList-1):\n",
    "        newList.append(num[n])\n",
    "    newList.append(num[0])\n",
    "    return newList\n",
    "\n",
    "list1=[1,2,3,4,5,6,10,20,5,3,67,25]\n",
    "print(\"List after performing interchange is {}\".format(interchangeList(list1)))"
   ]
  },
  {
   "cell_type": "markdown",
   "metadata": {},
   "source": [
    "## Swap two elements in a List"
   ]
  },
  {
   "cell_type": "code",
   "execution_count": 16,
   "metadata": {},
   "outputs": [
    {
     "name": "stdout",
     "output_type": "stream",
     "text": [
      "3\n",
      "20\n",
      "List after performing interchange is [1, 2, 20, 4, 5, 6, 10, 3, 5, 3, 67, 25]\n",
      "20\n",
      "3\n",
      "List after performing interchange is [1, 2, 3, 4, 5, 6, 10, 20, 5, 3, 67, 25]\n"
     ]
    }
   ],
   "source": [
    "def swapElements(List1,pos1,pos2):\n",
    "    \"\"\"Function to swap two elements in the list\"\"\"\n",
    "    pos1Val=List1.pop(pos1)\n",
    "    pos2Val=List1.pop(pos2-1)\n",
    "    print(pos1Val)\n",
    "    print(pos2Val)\n",
    "    List1.insert(pos1,pos2Val)\n",
    "    List1.insert(pos2,pos1Val)\n",
    "    return List1\n",
    "\n",
    "def swapElementsAlt(List1,pos1,pos2):\n",
    "    \"\"\"Function to swap two elements in the list using alternative\"\"\"\n",
    "    pos1Val=List1[pos1]\n",
    "    pos2Val=List1[pos2]\n",
    "    print(pos1Val)\n",
    "    print(pos2Val)\n",
    "    List1[pos1]=pos2Val\n",
    "    List1[pos2]=pos1Val\n",
    "    return List1\n",
    "    \n",
    "\n",
    "list1=[1,2,3,4,5,6,10,20,5,3,67,25]\n",
    "print(\"List after performing interchange is {}\".format(swapElements(list1,2,7)))\n",
    "print(\"List after performing interchange is {}\".format(swapElementsAlt(list1,2,7)))"
   ]
  },
  {
   "cell_type": "markdown",
   "metadata": {},
   "source": [
    "## Program to remove Nth Occurance of given word"
   ]
  },
  {
   "cell_type": "code",
   "execution_count": 49,
   "metadata": {},
   "outputs": [
    {
     "name": "stdout",
     "output_type": "stream",
     "text": [
      "New list is ['can', 'you', 'can', 'a', '?']\n",
      "New list is ['for', 'geeks']\n"
     ]
    }
   ],
   "source": [
    "def remNWord(sList,strToRem,occr):\n",
    "    \"\"\"Function to remove Nth Occurance of a given word\"\"\"\n",
    "    newList=[]\n",
    "    count=1\n",
    "    for n in range(len(sList)):\n",
    "        if (sList[n]==strToRem) and (count==occr):\n",
    "            count+=1\n",
    "        elif (sList[n]==strToRem) and (count!=occr):\n",
    "            newList.append(sList[n])\n",
    "            count+=1\n",
    "        else:\n",
    "            newList.append(sList[n])\n",
    "    return newList\n",
    "\n",
    "list1=[\"can\", \"you\",  \"can\", \"a\", \"can\", \"?\"]\n",
    "list2=[\"geeks\", \"for\", \"geeks\"]\n",
    "print(\"New list is {}\".format(remNWord(list1,\"can\",3)))\n",
    "print(\"New list is {}\".format(remNWord(list2,\"geeks\",1)))"
   ]
  },
  {
   "cell_type": "markdown",
   "metadata": {},
   "source": [
    "## Finding Length of a List"
   ]
  },
  {
   "cell_type": "code",
   "execution_count": 52,
   "metadata": {},
   "outputs": [
    {
     "name": "stdout",
     "output_type": "stream",
     "text": [
      "Length of the string is 9\n",
      "Length of the string is 11\n"
     ]
    }
   ],
   "source": [
    "list1=[1,6,7,3,4,8,9,10,11]\n",
    "print(\"Length of the string is {}\".format(len(list1)))\n",
    "\n",
    "list2=[5,6,4,6,1,8,9,10,21,22,45]\n",
    "count=0\n",
    "for i in list2:\n",
    "    count+=1\n",
    "print(\"Length of the string is {}\".format(count))"
   ]
  },
  {
   "cell_type": "markdown",
   "metadata": {},
   "source": [
    "## Ways to check if element exists in the list"
   ]
  },
  {
   "cell_type": "code",
   "execution_count": 55,
   "metadata": {},
   "outputs": [
    {
     "name": "stdout",
     "output_type": "stream",
     "text": [
      "is Subha available in list? True\n",
      "Subha Available in list1\n",
      "Subha available in list1\n"
     ]
    }
   ],
   "source": [
    "list1=[\"sri\",\"krishna\",\"chaitanya\",\"subha\",\"sagar\",\"irshita\",\"rishi\"]\n",
    "print(\"is Subha available in list? {}\".format(\"subha\" in list1))\n",
    "\n",
    "for i in list1:\n",
    "    if i==\"subha\":\n",
    "        print(\"Subha Available in list1\")\n",
    "\n",
    "for n in range(len(list1)):\n",
    "    if list1[n]==\"subha\":\n",
    "        print(\"Subha available in list1\")"
   ]
  },
  {
   "cell_type": "markdown",
   "metadata": {},
   "source": [
    "## Ways to clear the list"
   ]
  },
  {
   "cell_type": "code",
   "execution_count": 56,
   "metadata": {},
   "outputs": [
    {
     "name": "stdout",
     "output_type": "stream",
     "text": [
      "List1 before clearing [1, 6, 7, 3, 4, 8, 9, 10, 11]\n",
      "List1 after clear() []\n",
      "List2 before clearning [5, 6, 4, 6, 1, 8, 9, 10, 21, 22, 45]\n",
      "List after null []\n"
     ]
    }
   ],
   "source": [
    "list1=[1,6,7,3,4,8,9,10,11]\n",
    "\n",
    "list2=[5,6,4,6,1,8,9,10,21,22,45]\n",
    "\n",
    "print(\"List1 before clearing {}\".format(list1))\n",
    "list1.clear()\n",
    "print(\"List1 after clear() {}\".format(list1))\n",
    "\n",
    "print(\"List2 before clearning {}\".format(list2))\n",
    "list2=[]\n",
    "print(\"List after null {}\".format(list2))"
   ]
  },
  {
   "cell_type": "markdown",
   "metadata": {},
   "source": [
    "## Reversing a list"
   ]
  },
  {
   "cell_type": "code",
   "execution_count": 73,
   "metadata": {},
   "outputs": [
    {
     "name": "stdout",
     "output_type": "stream",
     "text": [
      "List1 is ['sri', 'krishna', 'chaitanya', 'subha', 'sagar', 'irshita', 'rishi']\n",
      "List1 after reverse is ['rishi', 'irshita', 'sagar', 'subha', 'chaitanya', 'krishna', 'sri']\n",
      "List1 after alternate reversal method ['sri', 'krishna', 'chaitanya', 'subha', 'sagar', 'irshita', 'rishi']\n"
     ]
    }
   ],
   "source": [
    "def _reverse(sList):\n",
    "    \"\"\"Function to return reverse of list\"\"\"\n",
    "    sList.reverse()\n",
    "    return sList\n",
    "\n",
    "def _reversed(sList):\n",
    "    \"\"\"Function to return reverse the list\"\"\"\n",
    "    return [ele for ele in reversed(sList)]\n",
    "\n",
    "list1=[\"sri\",\"krishna\",\"chaitanya\",\"subha\",\"sagar\",\"irshita\",\"rishi\"]\n",
    "print(\"List1 is {}\".format(list1))\n",
    "print(\"List1 after reverse is {}\".format(_reverse(list1)))\n",
    "print(\"List1 after alternate reversal method {}\".format(_reversed(list1)))\n"
   ]
  },
  {
   "cell_type": "markdown",
   "metadata": {},
   "source": [
    "## Copying a List"
   ]
  },
  {
   "cell_type": "code",
   "execution_count": 80,
   "metadata": {},
   "outputs": [
    {
     "name": "stdout",
     "output_type": "stream",
     "text": [
      "List1_copy ['sri', 'krishna', 'chaitanya', 'subha', 'sagar', 'irshita', 'rishi']\n",
      "List1_copy2 ['sri', 'krishna', 'chaitanya', 'subha', 'sagar', 'irshita', 'rishi']\n",
      "List1_copy3 ['sri', 'krishna', 'chaitanya', 'subha', 'sagar', 'irshita', 'rishi']\n",
      "List1_copy4 ['sri', 'krishna', 'chaitanya', 'subha', 'sagar', 'irshita', 'rishi']\n"
     ]
    }
   ],
   "source": [
    "list1=[\"sri\",\"krishna\",\"chaitanya\",\"subha\",\"sagar\",\"irshita\",\"rishi\"]\n",
    "list1_copy=list1[:]\n",
    "print(\"List1_copy {}\".format(list1_copy))\n",
    "\n",
    "list1_copy2=[]\n",
    "list1_copy2.extend(list1)\n",
    "print(\"List1_copy2 {}\".format(list1_copy2))\n",
    "\n",
    "list1_copy3=[]\n",
    "list1_copy3=list(list1)\n",
    "print(\"List1_copy3 {}\".format(list1_copy3))\n",
    "\n",
    "list1_copy4=[ele for ele in list1]\n",
    "print(\"List1_copy4 {}\".format(list1_copy4))"
   ]
  },
  {
   "cell_type": "markdown",
   "metadata": {},
   "source": [
    "## Count Occurances of elements in List"
   ]
  },
  {
   "cell_type": "code",
   "execution_count": 85,
   "metadata": {},
   "outputs": [
    {
     "name": "stdout",
     "output_type": "stream",
     "text": [
      "Number 10 occured 3 times in the list \n",
      "Number 16 occured 0 times in the list \n",
      "Number 8 occured 5 times in the list\n",
      "Number 2 occured 2 times in the list\n"
     ]
    }
   ],
   "source": [
    "def countOccur(mList,e):\n",
    "    \"\"\"Function to return count of elements in list\"\"\"\n",
    "    count=0\n",
    "    for item in mList:\n",
    "        if item==e:\n",
    "            count+=1\n",
    "    return count\n",
    "\n",
    "list1=[15, 6, 7, 10, 12, 20, 10, 28, 10]\n",
    "print(\"Number 10 occured {} times in the list \".format(countOccur(list1,10)))\n",
    "\n",
    "list2=[8, 6, 8, 10, 8, 20, 10, 8, 8]\n",
    "print(\"Number 16 occured {} times in the list \".format(countOccur(list2,16)))\n",
    "\n",
    "list3=[8, 6, 8, 10, 8, 20, 10, 8, 8] \n",
    "print(\"Number 8 occured {} times in the list\".format(list3.count(8)))\n",
    "\n",
    "from collections import Counter\n",
    "list4 = [1, 1, 2, 2, 3, 3, 4, 4, 5, 5] \n",
    "counterDict=Counter(list4)\n",
    "print(\"Number 2 occured {} times in the list\".format(counterDict[2]))"
   ]
  },
  {
   "cell_type": "markdown",
   "metadata": {},
   "source": [
    "## Find sum of elements"
   ]
  },
  {
   "cell_type": "code",
   "execution_count": 90,
   "metadata": {},
   "outputs": [
    {
     "name": "stdout",
     "output_type": "stream",
     "text": [
      "Sum of elements in the list 128\n",
      "Sum of elements in the list 86\n",
      "Sum of elements in the list 74\n"
     ]
    }
   ],
   "source": [
    "def _sumOfList(nList):\n",
    "    \"\"\"Function to return sum of the list\"\"\"\n",
    "    _sum=0\n",
    "    for n in nList:\n",
    "        _sum+=n\n",
    "    return _sum\n",
    "\n",
    "def _sumOfListAlt(nList):\n",
    "    \"\"\"Function to return sum of the elements in the list\"\"\"\n",
    "    _sum=0\n",
    "    n=0\n",
    "    while(n<len(nList)):\n",
    "        _sum+=nList[n]\n",
    "        n+=1\n",
    "    return _sum\n",
    "\n",
    "list1=[15, 6, 7, 10, 12, 20, 10, 28, 10,10]\n",
    "print(\"Sum of elements in the list {}\".format(_sumOfList(list1)))\n",
    "\n",
    "list2=[8, 6, 8, 10, 8, 20, 10, 8, 8]\n",
    "print(\"Sum of elements in the list {}\".format(sum(list2)))\n",
    "\n",
    "list3=[11, 5, 17, 18, 23] \n",
    "print(\"Sum of elements in the list {}\".format(_sumOfListAlt(list3)))"
   ]
  },
  {
   "cell_type": "markdown",
   "metadata": {},
   "source": [
    "## Multiply elements in list"
   ]
  },
  {
   "cell_type": "code",
   "execution_count": 100,
   "metadata": {},
   "outputs": [
    {
     "name": "stdout",
     "output_type": "stream",
     "text": [
      "Multiplication of elements in the list 42336000000\n",
      "Multiplication of elements in the list 40320\n",
      "Multiplication of elements in the list 42336000000\n"
     ]
    }
   ],
   "source": [
    "def _multOfList(nList):\n",
    "    \"\"\"Function will return product of elements in the list\"\"\"\n",
    "    _multiply=1\n",
    "    for n in nList:\n",
    "        _multiply*=n\n",
    "    return _multiply\n",
    "import numpy as np\n",
    "def _multOfList2(nList):\n",
    "    \"\"\"Function will return product of elements in the list\"\"\"\n",
    "    return np.prod(nList)\n",
    "\n",
    "list1=[15, 6, 7, 10, 12, 20, 10, 28, 10,10]\n",
    "list2=[1,2,3,4,5,6,7,8]\n",
    "print(\"Multiplication of elements in the list {}\".format(_multOfList(list1)))\n",
    "print(\"Multiplication of elements in the list {}\".format(_multOfList2(list2)))\n",
    "\n",
    "from functools import reduce\n",
    "list3=[15, 6, 7, 10, 12, 20, 10, 28, 10,10]\n",
    "mulEle=reduce((lambda x,y: x*y),list3)\n",
    "print(\"Multiplication of elements in the list {}\".format(mulEle))"
   ]
  },
  {
   "cell_type": "markdown",
   "metadata": {},
   "source": [
    "## Find Smallest number in the list"
   ]
  },
  {
   "cell_type": "code",
   "execution_count": 107,
   "metadata": {},
   "outputs": [
    {
     "name": "stdout",
     "output_type": "stream",
     "text": [
      "Small number is 6\n",
      "Small number is 6\n",
      "Small number is 6\n",
      "Small number is 6\n"
     ]
    }
   ],
   "source": [
    "def findSmall(nList):\n",
    "    \"\"\"Function to return smallest number in the list\"\"\"\n",
    "    small=nList[0]\n",
    "    for ele in nList:\n",
    "        if ele<small:\n",
    "            small=ele\n",
    "    return small\n",
    "\n",
    "def findSmall2(nList):\n",
    "    \"\"\"Function to return smallest number in the list\"\"\"\n",
    "    nList.sort()\n",
    "    return nList[0]\n",
    "\n",
    "list1=[15, 6, 7, 10, 12, 20, 10, 28, 10,10]\n",
    "print(\"Small number is {}\".format(findSmall(list1)))\n",
    "print(\"Small number is {}\".format(np.min(list1)))\n",
    "print(\"Small number is {}\".format(findSmall2(list1)))\n",
    "print(\"Small number is {}\".format(min(list1)))"
   ]
  },
  {
   "cell_type": "markdown",
   "metadata": {},
   "source": [
    "## Find Largest number in the list"
   ]
  },
  {
   "cell_type": "code",
   "execution_count": 110,
   "metadata": {},
   "outputs": [
    {
     "name": "stdout",
     "output_type": "stream",
     "text": [
      "Largest number is 28\n",
      "Largest number is 28\n",
      "Largest number is 28\n",
      "Largest number is 28\n"
     ]
    }
   ],
   "source": [
    "def findLargest(nList):\n",
    "    \"\"\"Function to return the largest number in the list\"\"\"\n",
    "    large=nList[0]\n",
    "    for ele in nList:\n",
    "        if ele>large:\n",
    "            large=ele\n",
    "    return large\n",
    "\n",
    "def findLargest2(nList):\n",
    "    \"\"\"Function to return largest number in the list\"\"\"\n",
    "    nList.sort()\n",
    "    return nList[len(nList)-1]\n",
    "    \n",
    "\n",
    "list1=[15, 6, 7, 10, 12, 20, 10, 28, 10,10]\n",
    "print(\"Largest number is {}\".format(findLargest(list1)))\n",
    "print(\"Largest number is {}\".format(np.max(list1)))\n",
    "print(\"Largest number is {}\".format(findLargest2(list1)))\n",
    "print(\"Largest number is {}\".format(max(list1)))"
   ]
  },
  {
   "cell_type": "markdown",
   "metadata": {},
   "source": [
    "## Find Second largest number in the list"
   ]
  },
  {
   "cell_type": "code",
   "execution_count": 117,
   "metadata": {},
   "outputs": [
    {
     "name": "stdout",
     "output_type": "stream",
     "text": [
      "Largest number is 21\n",
      "Largest number is 21\n",
      "Largest number is 21\n"
     ]
    }
   ],
   "source": [
    "def find2Largest(nList):\n",
    "    \"\"\"Function to return second largest number in the list\"\"\"\n",
    "    large=nList[0]\n",
    "    secLarge=nList[1]\n",
    "    large=nList[0] if nList[0]>nList[1] else nList[1]\n",
    "    secLarge= nList[1] if nList[0]>nList[1] else nList[0]\n",
    "    for ele in nList:\n",
    "        if (ele>large) and (ele>secLarge):\n",
    "            secLarge=large\n",
    "            large=ele\n",
    "        elif (ele<large) and (ele>secLarge):\n",
    "            secLarge=ele\n",
    "    return secLarge\n",
    "\n",
    "def find2Largest2(nList):\n",
    "    \"\"\"Function to return second largest number in the list\"\"\"\n",
    "    newList=sorted(nList)\n",
    "    length=len(newList)\n",
    "    return newList[length-2]\n",
    "\n",
    "def find2Largest3(nList):\n",
    "    \"\"\"Function to return second largest number in the list\"\"\"\n",
    "    secLargest=nList[0]\n",
    "    large=max(nList)\n",
    "    for ele in nList:\n",
    "        if (ele>secLargest) and (ele!=large):\n",
    "            secLargest=ele\n",
    "    return secLargest\n",
    "\n",
    "list1=[15, 6, 7, 10, 12, 20, 10, 28, 10,10,21]\n",
    "print(\"Largest number is {}\".format(find2Largest(list1)))\n",
    "print(\"Largest number is {}\".format(find2Largest2(list1)))\n",
    "print(\"Largest number is {}\".format(find2Largest3(list1)))"
   ]
  },
  {
   "cell_type": "markdown",
   "metadata": {},
   "source": [
    "## Find N Largest elements in the list"
   ]
  },
  {
   "cell_type": "code",
   "execution_count": 121,
   "metadata": {},
   "outputs": [
    {
     "name": "stdout",
     "output_type": "stream",
     "text": [
      "Largest number is [15, 20, 21, 28]\n",
      "Largest number is [28, 21, 20, 15, 12]\n"
     ]
    }
   ],
   "source": [
    "def findNLargest(nList,N):\n",
    "    \"\"\"Function to return N Largest Elements in the list\"\"\"\n",
    "    nList.sort()\n",
    "    large=nList[-N:]\n",
    "    return large\n",
    "\n",
    "def findNLargest2(nList,N):\n",
    "    \"\"\"Function to return N Largest Elements in the list\"\"\"\n",
    "    large=[]\n",
    "    for i in range(N):\n",
    "        temp=nList[0]\n",
    "        for ele in nList:\n",
    "            if (ele>temp) and (ele not in large):\n",
    "                temp=ele\n",
    "        large.append(temp)\n",
    "    return large\n",
    "        \n",
    "\n",
    "list1=[15, 6, 7, 10, 12, 20, 10, 28, 10,10,21]\n",
    "print(\"Largest number is {}\".format(findNLargest(list1,4)))\n",
    "print(\"Largest number is {}\".format(findNLargest2(list1,5)))"
   ]
  },
  {
   "cell_type": "markdown",
   "metadata": {},
   "source": [
    "## Print even numbers in the list"
   ]
  },
  {
   "cell_type": "code",
   "execution_count": 8,
   "metadata": {},
   "outputs": [
    {
     "name": "stdout",
     "output_type": "stream",
     "text": [
      "Even numbers in the given list is [6, 10, 12, 20, 10, 28, 10, 10]\n",
      "Even numbers in the given list is [6, 10, 12, 20, 10, 28, 10, 10]\n",
      "Even numbers in the given list is [6, 10, 12, 20, 10, 28, 10, 10]\n"
     ]
    }
   ],
   "source": [
    "def findEvenNum(nList):\n",
    "    \"\"\"Function to return Even numbers in the list\"\"\"\n",
    "    evenList=[]\n",
    "    for ele in nList:\n",
    "        if (ele%2==0):\n",
    "            evenList.append(ele)\n",
    "    return evenList\n",
    "\n",
    "def findEvenNum2(nList):\n",
    "    \"\"\"Functiton to return Even numbers in the list\"\"\"\n",
    "    evenList=[ele for ele in nList if ele%2==0]\n",
    "    return evenList\n",
    "\n",
    "def findEvenNum3(nList):\n",
    "    \"\"\"Function to return Even numbers in the list\"\"\"\n",
    "    evenList=list(filter(lambda x: x%2==0, nList))\n",
    "    return evenList\n",
    "\n",
    "list1=[15, 6, 7, 10, 12, 20, 10, 28, 10,10,21]\n",
    "print(\"Even numbers in the given list is {}\".format(findEvenNum(list1)))\n",
    "print(\"Even numbers in the given list is {}\".format(findEvenNum2(list1)))\n",
    "print(\"Even numbers in the given list is {}\".format(findEvenNum3(list1)))"
   ]
  },
  {
   "cell_type": "markdown",
   "metadata": {},
   "source": [
    "## Print Odd numbers in the list"
   ]
  },
  {
   "cell_type": "code",
   "execution_count": 11,
   "metadata": {},
   "outputs": [
    {
     "name": "stdout",
     "output_type": "stream",
     "text": [
      "Odd numbers in the given list is [15, 7, 21]\n",
      "Odd numbers in the given list is [15, 7, 21]\n",
      "Odd numbers in the given list is [15, 7, 21]\n"
     ]
    }
   ],
   "source": [
    "def findOddNum(nList):\n",
    "    \"\"\"Function to return Odd numbers in the list\"\"\"\n",
    "    oddList=[]\n",
    "    for ele in nList:\n",
    "        if ele%2!=0:\n",
    "            oddList.append(ele)\n",
    "    return oddList\n",
    "\n",
    "def findOddNum2(nList):\n",
    "    \"\"\"Function to return Odd numbers in the list\"\"\"\n",
    "    oddList=[ele for ele in nList if ele%2!=0]\n",
    "    return oddList\n",
    "\n",
    "def findOddNum3(nList):\n",
    "    \"\"\"Function to return Odd numbers in the list\"\"\"\n",
    "    oddList=list(filter(lambda ele: ele%2!=0,nList))\n",
    "    return oddList\n",
    "\n",
    "list1=[15, 6, 7, 10, 12, 20, 10, 28, 10,10,21]\n",
    "print(\"Odd numbers in the given list is {}\".format(findOddNum(list1)))\n",
    "print(\"Odd numbers in the given list is {}\".format(findOddNum2(list1)))\n",
    "print(\"Odd numbers in the given list is {}\".format(findOddNum3(list1)))\n"
   ]
  },
  {
   "cell_type": "markdown",
   "metadata": {},
   "source": [
    "## Print all even numbers in a range"
   ]
  },
  {
   "cell_type": "code",
   "execution_count": 15,
   "metadata": {},
   "outputs": [
    {
     "name": "stdout",
     "output_type": "stream",
     "text": [
      "Enter Start number8\n",
      "Enter end number11\n",
      "Even numbers in the list is [8, 10]\n",
      "Even numbers in the list is [8, 10]\n"
     ]
    }
   ],
   "source": [
    "def evenNumRange(start,end):\n",
    "    \"\"\"Function to return list of even numbers in the list\"\"\"\n",
    "    evenList=[]\n",
    "    for n in range(start,end+1):\n",
    "        if n%2==0:\n",
    "            evenList.append(n)\n",
    "    return evenList\n",
    "\n",
    "def evenNumRange2(start,end):\n",
    "    \"\"\"Function to return list of even numbers in the list\"\"\"\n",
    "    evenList=[n for n in range(start,end+1) if n%2==0]\n",
    "    return evenList\n",
    "\n",
    "start=int(input(\"Enter Start number\"))\n",
    "end=int(input(\"Enter end number\"))\n",
    "print(\"Even numbers in the list is {}\".format(evenNumRange(start,end)))\n",
    "print(\"Even numbers in the list is {}\".format(evenNumRange2(start,end)))"
   ]
  },
  {
   "cell_type": "markdown",
   "metadata": {},
   "source": [
    "## Print all Odd numbers in a range"
   ]
  },
  {
   "cell_type": "code",
   "execution_count": 16,
   "metadata": {},
   "outputs": [
    {
     "name": "stdout",
     "output_type": "stream",
     "text": [
      "Enter Start numbers5\n",
      "Enter end numbers10\n",
      "Odd numbers in the list is [5, 7, 9]\n",
      "Odd numbers in the list is [5, 7, 9]\n"
     ]
    }
   ],
   "source": [
    "def oddNumRange(start, end):\n",
    "    \"\"\"Function to return all odd numbers in the range\"\"\"\n",
    "    oddList=[]\n",
    "    for n in range(start,end+1):\n",
    "        if n%2!=0:\n",
    "            oddList.append(n)\n",
    "    return oddList\n",
    "\n",
    "def oddNumRange2(start,end):\n",
    "    \"\"\"Function to return all odd numbers in the range\"\"\"\n",
    "    oddList=[n for n in range(start,end+1) if n%2!=0]\n",
    "    return oddList\n",
    "\n",
    "start=int(input(\"Enter Start numbers\"))\n",
    "end=int(input(\"Enter end numbers\"))\n",
    "print(\"Odd numbers in the list is {}\".format(oddNumRange(start,end)))\n",
    "print(\"Odd numbers in the list is {}\".format(oddNumRange2(start,end)))"
   ]
  },
  {
   "cell_type": "markdown",
   "metadata": {},
   "source": [
    "## Count Even and Odd numbers in the list"
   ]
  },
  {
   "cell_type": "code",
   "execution_count": 17,
   "metadata": {},
   "outputs": [
    {
     "name": "stdout",
     "output_type": "stream",
     "text": [
      "Count of even numbers in list is 8 and count of odd numbers is 3\n"
     ]
    }
   ],
   "source": [
    "def evenOddCount(nList):\n",
    "    \"\"\"Function to count Even and odd numbers in the list\"\"\"\n",
    "    evenOddList=[]\n",
    "    even,odd=0,0\n",
    "    for ele in nList:\n",
    "        if ele%2==0:\n",
    "            even+=1\n",
    "        elif ele%2!=0:\n",
    "            odd+=1\n",
    "        else:\n",
    "            print(\"Invalid digit\")\n",
    "    evenOddList.append(even)\n",
    "    evenOddList.append(odd)\n",
    "    return evenOddList\n",
    "\n",
    "list1=[15, 6, 7, 10, 12, 20, 10, 28, 10,10,21]\n",
    "evenOddList=evenOddCount(list1)\n",
    "print(\"Count of even numbers in list is {0} and count of odd numbers is {1}\".format(evenOddList[0],evenOddList[1]))"
   ]
  },
  {
   "cell_type": "markdown",
   "metadata": {},
   "source": [
    "## Print Positive numbers in the list"
   ]
  },
  {
   "cell_type": "code",
   "execution_count": 18,
   "metadata": {},
   "outputs": [
    {
     "name": "stdout",
     "output_type": "stream",
     "text": [
      "Positive numbers in the list is [1, 2, 4, 5, 6, 3, 8]\n",
      "Positive numbers in the list is [1, 2, 4, 5, 6, 3, 8]\n",
      "Positive numbers in the list is [1, 2, 4, 5, 6, 3, 8]\n"
     ]
    }
   ],
   "source": [
    "def posNum(nList):\n",
    "    \"\"\"Function to print Positive numbers in the list\"\"\"\n",
    "    posList=[]\n",
    "    for ele in nList:\n",
    "        if ele>=0:\n",
    "            posList.append(ele)\n",
    "    return posList\n",
    "\n",
    "def posNum2(nList):\n",
    "    \"\"\"Function to return positive numbers in the list\"\"\"\n",
    "    posList=[ele for ele in nList if ele>=0]\n",
    "    return posList\n",
    "\n",
    "def posNum3(nList):\n",
    "    \"\"\"Function to return positive numbers in the list\"\"\"\n",
    "    posList=list(filter(lambda ele: ele>=0,nList))\n",
    "    return posList\n",
    "\n",
    "list1=[1,2,4,5,6,-1,-2,-5,3,-7,8,-9]\n",
    "print(\"Positive numbers in the list is {}\".format(posNum(list1)))\n",
    "print(\"Positive numbers in the list is {}\".format(posNum2(list1)))\n",
    "print(\"Positive numbers in the list is {}\".format(posNum3(list1)))"
   ]
  },
  {
   "cell_type": "markdown",
   "metadata": {},
   "source": [
    "## Print Negative numbers in the list"
   ]
  },
  {
   "cell_type": "code",
   "execution_count": 19,
   "metadata": {},
   "outputs": [
    {
     "name": "stdout",
     "output_type": "stream",
     "text": [
      "Positive numbers in the list is [-1, -2, -5, -7, -9]\n",
      "Positive numbers in the list is [-1, -2, -5, -7, -9]\n",
      "Positive numbers in the list is [-1, -2, -5, -7, -9]\n"
     ]
    }
   ],
   "source": [
    "def negNum(nList):\n",
    "    \"\"\"Function to return negative numbers in the list\"\"\"\n",
    "    negList=[]\n",
    "    for ele in nList:\n",
    "        if ele<0:\n",
    "            negList.append(ele)\n",
    "    return negList\n",
    "\n",
    "def negNum2(nList):\n",
    "    \"\"\"Function to return negative numbers in the list\"\"\"\n",
    "    negList=[ele for ele in nList if ele<0]\n",
    "    return negList\n",
    "\n",
    "def negNum3(nList):\n",
    "    \"\"\"Function to return negative numbers in the list\"\"\"\n",
    "    negList=list(filter(lambda ele: ele<0,nList))\n",
    "    return negList\n",
    "\n",
    "\n",
    "list1=[1,2,4,5,6,-1,-2,-5,3,-7,8,-9]\n",
    "print(\"Positive numbers in the list is {}\".format(negNum(list1)))\n",
    "print(\"Positive numbers in the list is {}\".format(negNum2(list1)))\n",
    "print(\"Positive numbers in the list is {}\".format(negNum3(list1)))"
   ]
  },
  {
   "cell_type": "markdown",
   "metadata": {},
   "source": [
    "## Print All Positive numbers in a range"
   ]
  },
  {
   "cell_type": "code",
   "execution_count": 21,
   "metadata": {},
   "outputs": [
    {
     "name": "stdout",
     "output_type": "stream",
     "text": [
      "Enter start number-4\n",
      "Enter end number-1\n",
      "List of positive numbers in range []\n",
      "List of positive numbers in range []\n"
     ]
    }
   ],
   "source": [
    "def posNumRange(start,end):\n",
    "    \"\"\"Function to print all positive numbers in a range\"\"\"\n",
    "    posList=[]\n",
    "    if start<=0:\n",
    "        start=0\n",
    "    elif end < start or end<0:\n",
    "        return []\n",
    "    for i in range(start,end+1):\n",
    "        posList.append(i)\n",
    "    return posList\n",
    "\n",
    "def posNumRange2(start,end):\n",
    "    \"\"\"Function to print all positive numbers in a range\"\"\"\n",
    "    if start<=0:\n",
    "        start=0\n",
    "    elif end < start or end<0:\n",
    "        return []\n",
    "    posList=[i for i in range(start,end+1)]\n",
    "    return posList\n",
    "\n",
    "start=int(input(\"Enter start number\"))\n",
    "end=int(input(\"Enter end number\"))\n",
    "print(\"List of positive numbers in range {}\".format(posNumRange(start,end)))\n",
    "print(\"List of positive numbers in range {}\".format(posNumRange2(start,end)))\n",
    "        "
   ]
  },
  {
   "cell_type": "markdown",
   "metadata": {},
   "source": [
    "## Print all negative numbers in range"
   ]
  },
  {
   "cell_type": "code",
   "execution_count": 24,
   "metadata": {},
   "outputs": [
    {
     "name": "stdout",
     "output_type": "stream",
     "text": [
      "Enter start number-9\n",
      "Enter end number-27\n",
      "List of positive numbers in range [-27, -26, -25, -24, -23, -22, -21, -20, -19, -18, -17, -16, -15, -14, -13, -12, -11, -10, -9]\n",
      "List of positive numbers in range [-27, -26, -25, -24, -23, -22, -21, -20, -19, -18, -17, -16, -15, -14, -13, -12, -11, -10, -9]\n"
     ]
    }
   ],
   "source": [
    "def negNumRange(start,end):\n",
    "    \"\"\"Function to print all negative numbers in range\"\"\"\n",
    "    negList=[]\n",
    "    if end>0:\n",
    "        end=0\n",
    "    elif start >0 and end >0:\n",
    "        return []\n",
    "    if start>end:\n",
    "        temp=start\n",
    "        start=end\n",
    "        end=temp\n",
    "    for i in range(start,end+1):\n",
    "        negList.append(i)\n",
    "    return negList\n",
    "\n",
    "def negNumRange2(start,end):\n",
    "    \"\"\"Function to print all negative numbers in range\"\"\"\n",
    "    if end>0:\n",
    "        end=0\n",
    "    elif start>0 and end>0:\n",
    "        return []\n",
    "    if start>end:\n",
    "        temp=start\n",
    "        start=end\n",
    "        end=temp\n",
    "    negList=[i for i in range(start,end+1)]\n",
    "    return negList\n",
    "\n",
    "start=int(input(\"Enter start number\"))\n",
    "end=int(input(\"Enter end number\"))\n",
    "print(\"List of positive numbers in range {}\".format(negNumRange(start,end)))\n",
    "print(\"List of positive numbers in range {}\".format(negNumRange2(start,end)))"
   ]
  },
  {
   "cell_type": "markdown",
   "metadata": {},
   "source": [
    "## Count Positive and Negative numbers in a list"
   ]
  },
  {
   "cell_type": "code",
   "execution_count": 28,
   "metadata": {},
   "outputs": [
    {
     "name": "stdout",
     "output_type": "stream",
     "text": [
      "Count of positive numbers is 7 and Count of negative numbers is 5\n",
      "Count of positive numbers is 7 and Count of negative numbers is 5\n"
     ]
    }
   ],
   "source": [
    "def posNegCount(nList):\n",
    "    \"\"\"Function to return count of Positive and Negative numbers\"\"\"\n",
    "    pnCount=[]\n",
    "    pos,neg=0,0\n",
    "    for n in nList:\n",
    "        if n >=0:\n",
    "            pos+=1\n",
    "        elif n<0:\n",
    "            neg+=1\n",
    "        else:\n",
    "            return []\n",
    "    pnCount.append(pos)\n",
    "    pnCount.append(neg)\n",
    "    return pnCount\n",
    "\n",
    "def posNegCount2(nList):\n",
    "    \"\"\"Function to return count of positive and Negative numbers\"\"\"\n",
    "    pnCount=[]\n",
    "    pos,neg=0,0\n",
    "    pos=len(list(filter(lambda n:n>=0,nList)))\n",
    "    neg=len(list(filter(lambda n:n<0,nList)))\n",
    "    pnCount.append(pos)\n",
    "    pnCount.append(neg)\n",
    "    return pnCount\n",
    "\n",
    "list1=[1,2,4,5,6,-1,-2,-5,3,-7,8,-9]\n",
    "\n",
    "pnCount1=posNegCount(list1)\n",
    "pnCount2=posNegCount2(list1)\n",
    "print(\"Count of positive numbers is {0} and Count of negative numbers is {1}\".format(pnCount1[0],pnCount1[1]))\n",
    "print(\"Count of positive numbers is {0} and Count of negative numbers is {1}\".format(pnCount2[0],pnCount2[1]))"
   ]
  },
  {
   "cell_type": "markdown",
   "metadata": {},
   "source": [
    "## Remove multiple elements from the list"
   ]
  },
  {
   "cell_type": "code",
   "execution_count": 31,
   "metadata": {},
   "outputs": [
    {
     "name": "stdout",
     "output_type": "stream",
     "text": [
      "List after removing Even numbers [47, 5, 7, 1, 23, 41, 89]\n",
      "List after removing Even numbers [58, 1, 23, 56, 41, 89, 44]\n",
      "List after removing Even numbers [58, 6, 5, 7, 23, 56, 41, 44]\n"
     ]
    }
   ],
   "source": [
    "def remEvenNum(nList):\n",
    "    \"\"\"Function to remove Even numbers in the list\"\"\"\n",
    "    for n in nList:\n",
    "        if n%2==0:\n",
    "            nList.remove(n)\n",
    "    return nList\n",
    "\n",
    "list1=[58,47,6,5,7,1,23,56,41,89,44]\n",
    "print(\"List after removing Even numbers {}\".format(remEvenNum(list1)))\n",
    "\n",
    "def remAdjEle(nList,start,end):\n",
    "    \"\"\"Function to remove adjascent numbers\"\"\"\n",
    "    del nList[start:end]\n",
    "    return nList\n",
    "\n",
    "list1=[58,47,6,5,7,1,23,56,41,89,44]\n",
    "print(\"List after removing Even numbers {}\".format(remAdjEle(list1,1,5)))\n",
    "\n",
    "def remUnwantedEle(nList,unwanted):\n",
    "    \"\"\"Function to remove unwanted elements in the list\"\"\"\n",
    "    fList=[ele for ele in nList if ele not in unwanted]\n",
    "    return fList\n",
    "\n",
    "list1=[58,47,6,5,7,1,23,56,41,89,44]\n",
    "unwanted={1,47,89}\n",
    "print(\"List after removing Even numbers {}\".format(remUnwantedEle(list1,unwanted)))\n",
    "\n"
   ]
  },
  {
   "cell_type": "markdown",
   "metadata": {},
   "source": [
    "## Remove empty tuples from a list"
   ]
  },
  {
   "cell_type": "code",
   "execution_count": 35,
   "metadata": {},
   "outputs": [
    {
     "name": "stdout",
     "output_type": "stream",
     "text": [
      "Printing list without empty [('ram', '15', '8'), ('laxman', 'sita'), ('krishna', 'akbar', '45'), ('', '')]\n"
     ]
    }
   ],
   "source": [
    "def remove(tuples):\n",
    "    \"\"\"Function to remove empty tuples\"\"\"\n",
    "    #tup=filter(None,tuples)\n",
    "    tup=[t for t in tuples if t]\n",
    "    return tup\n",
    "\n",
    "tuples = [(), ('ram','15','8'), (), ('laxman', 'sita'),('krishna', 'akbar', '45'), ('',''),()] \n",
    "print(\"Printing list without empty {}\".format(remove(tuples)))"
   ]
  },
  {
   "cell_type": "markdown",
   "metadata": {},
   "source": [
    "## Print duplicates from a list of integers"
   ]
  },
  {
   "cell_type": "code",
   "execution_count": 36,
   "metadata": {},
   "outputs": [
    {
     "name": "stdout",
     "output_type": "stream",
     "text": [
      "Elements that are repeating are [20, 30, -20, 60]\n"
     ]
    }
   ],
   "source": [
    "def duplicateNum(nList):\n",
    "    \"\"\"Function to print duplicates from the list\"\"\"\n",
    "    duplicate=[]\n",
    "    for n in range(len(nList)):\n",
    "        \n",
    "        for i in range(n+1,len(nList)):\n",
    "            if (nList[n]==nList[i]) and (nList[n] not in duplicate):\n",
    "                duplicate.append(nList[n])\n",
    "    return duplicate\n",
    "\n",
    "list1 = [10, 20, 30, 20, 20, 30, 40, 50, -20, 60, 60, -20, -20] \n",
    "print(\"Elements that are repeating are {}\".format(duplicateNum(list1)))\n",
    "        "
   ]
  },
  {
   "cell_type": "markdown",
   "metadata": {},
   "source": [
    "## Find Cummulative sum of the list"
   ]
  },
  {
   "cell_type": "code",
   "execution_count": 43,
   "metadata": {},
   "outputs": [
    {
     "name": "stdout",
     "output_type": "stream",
     "text": [
      "Cummulative sum [10, 30, 60, 100, 150]\n",
      "Cummulative sum [10, 30, 60, 100, 150]\n"
     ]
    }
   ],
   "source": [
    "def cummuSum(nList):\n",
    "    \"\"\"Function to return new list with cummulative sum\"\"\"\n",
    "    cumList=[]\n",
    "    temp=0\n",
    "    for ele in nList:\n",
    "        temp+=ele\n",
    "        cumList.append(temp)\n",
    "    return cumList\n",
    "\n",
    "list1=[10, 20, 30, 40, 50]\n",
    "print(\"Cummulative sum {}\".format(cummuSum(list1)))\n",
    "\n",
    "def cummuSum(nList):\n",
    "    \"\"\"Function to return new list with cummulative sum\"\"\"\n",
    "    cumList=[sum(nList[0:i]) for i in range(1,len(nList)+1)]\n",
    "    return cumList\n",
    "\n",
    "list1=[10, 20, 30, 40, 50]\n",
    "print(\"Cummulative sum {}\".format(cummuSum(list1)))\n"
   ]
  },
  {
   "cell_type": "markdown",
   "metadata": {},
   "source": [
    "## Break list into Chunks"
   ]
  },
  {
   "cell_type": "code",
   "execution_count": 44,
   "metadata": {},
   "outputs": [
    {
     "name": "stdout",
     "output_type": "stream",
     "text": [
      "Chunks [[1, 2, 3, 4], [5, 6, 7, 8], [9, 10]]\n"
     ]
    }
   ],
   "source": [
    "list1=[1,2,3,4,5,6,7,8,9,10]\n",
    "n=4\n",
    "chunks=[list1[i:i+n] for i in range(0,len(list1),n)]\n",
    "print(\"Chunks {}\".format(chunks))"
   ]
  },
  {
   "cell_type": "code",
   "execution_count": null,
   "metadata": {},
   "outputs": [],
   "source": []
  }
 ],
 "metadata": {
  "kernelspec": {
   "display_name": "Python 3",
   "language": "python",
   "name": "python3"
  },
  "language_info": {
   "codemirror_mode": {
    "name": "ipython",
    "version": 3
   },
   "file_extension": ".py",
   "mimetype": "text/x-python",
   "name": "python",
   "nbconvert_exporter": "python",
   "pygments_lexer": "ipython3",
   "version": "3.7.6"
  }
 },
 "nbformat": 4,
 "nbformat_minor": 4
}
