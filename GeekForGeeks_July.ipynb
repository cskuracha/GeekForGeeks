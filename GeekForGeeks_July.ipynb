{
 "cells": [
  {
   "cell_type": "markdown",
   "metadata": {},
   "source": [
    "## Programs for Practice (Basic)"
   ]
  },
  {
   "cell_type": "markdown",
   "metadata": {},
   "source": [
    "Python program to add two numbers\n",
    "\n",
    "Python Program for factorial of a number\n",
    "\n",
    "Python Program for simple interest\n",
    "\n",
    "Python Program for compound interest\n",
    "\n",
    "Python Program to check Armstrong Number\n",
    "\n",
    "Python Program for Program to find area of a circle\n",
    "\n",
    "Python program to print all Prime numbers in an Interval\n",
    "\n",
    "Python program to check whether a number is Prime or not\n",
    "\n",
    "Python Program for n-th Fibonacci number\n",
    "\n",
    "Python Program for Fibonacci numbers\n",
    "\n",
    "Python Program for How to check if a given number is Fibonacci number?\n",
    "\n",
    "Python Program for n\\’th multiple of a number in Fibonacci Series\n",
    "\n",
    "Program to print ASCII Value of a character\n",
    "\n",
    "Python Program for Sum of squares of first n natural numbers\n",
    "\n",
    "Python Program for cube sum of first n natural numbers"
   ]
  },
  {
   "cell_type": "markdown",
   "metadata": {},
   "source": [
    "# Sum of Two Numbers"
   ]
  },
  {
   "cell_type": "code",
   "execution_count": 1,
   "metadata": {},
   "outputs": [
    {
     "name": "stdout",
     "output_type": "stream",
     "text": [
      "Sum of Two numbers: 30\n"
     ]
    }
   ],
   "source": [
    "num1=10\n",
    "num2=20\n",
    "print(\"Sum of Two numbers:\",num1+num2)"
   ]
  },
  {
   "cell_type": "code",
   "execution_count": 5,
   "metadata": {},
   "outputs": [
    {
     "name": "stdout",
     "output_type": "stream",
     "text": [
      "Enter First Number10\n",
      "Enter Second Number20\n",
      "Sum of two numbers:30.0\n"
     ]
    }
   ],
   "source": [
    "num1=input(\"Enter First Number\")\n",
    "num2=input(\"Enter Second Number\")\n",
    "sumnum=float(num1)+float(num2)\n",
    "print(\"Sum of two numbers:{}\".format(sumnum))"
   ]
  },
  {
   "cell_type": "markdown",
   "metadata": {},
   "source": [
    "## Factorial of a number"
   ]
  },
  {
   "cell_type": "code",
   "execution_count": 3,
   "metadata": {},
   "outputs": [
    {
     "name": "stdout",
     "output_type": "stream",
     "text": [
      "Enter a number for Factorial5\n",
      "Factorial of 5 is 120\n"
     ]
    }
   ],
   "source": [
    "def factorial(num):\n",
    "    \"\"\"Function to return Factorial of a number\"\"\"\n",
    "    return num*factorial(num-1) if num>1 else 1\n",
    "iNum=int(input(\"Enter a number for Factorial\"))\n",
    "print(\"Factorial of {0} is {1}\".format(iNum,factorial(iNum)))"
   ]
  },
  {
   "cell_type": "markdown",
   "metadata": {},
   "source": [
    "## Simple Interest"
   ]
  },
  {
   "cell_type": "code",
   "execution_count": 5,
   "metadata": {},
   "outputs": [
    {
     "name": "stdout",
     "output_type": "stream",
     "text": [
      "Simple Interest is 250.0\n"
     ]
    }
   ],
   "source": [
    "# Simple Interest - (P*T*R)/100\n",
    "def simpleInterest(principle,time,rate):\n",
    "    \"\"\"Function to compute simple interest\"\"\"\n",
    "    return principle*time*rate/100\n",
    "prin,time,rate=1000,5,5\n",
    "print(\"Simple Interest is {}\".format(simpleInterest(prin,time,rate)))"
   ]
  },
  {
   "cell_type": "markdown",
   "metadata": {},
   "source": [
    "## Compound Interest"
   ]
  },
  {
   "cell_type": "code",
   "execution_count": 8,
   "metadata": {},
   "outputs": [
    {
     "name": "stdout",
     "output_type": "stream",
     "text": [
      "Compund Interest is 1276.2815625000003\n",
      "Compund Interest is 1333.0992\n"
     ]
    }
   ],
   "source": [
    "# Compound Interest: P(1+R/100)**T\n",
    "def compInterest(principle,time,rate):\n",
    "    \"\"\"Function to compute compound interest\"\"\"\n",
    "    return (principle*(1+rate/100)**time)\n",
    "prin,time,rate=1000,5,5\n",
    "print(\"Compund Interest is {}\".format(compInterest(prin,time,rate)))\n",
    "prin,time,rate=1200,2,5.4\n",
    "print(\"Compund Interest is {}\".format(compInterest(prin,time,rate)))"
   ]
  },
  {
   "cell_type": "markdown",
   "metadata": {},
   "source": [
    "## Armstrong Number"
   ]
  },
  {
   "cell_type": "code",
   "execution_count": 20,
   "metadata": {},
   "outputs": [
    {
     "name": "stdout",
     "output_type": "stream",
     "text": [
      "Enter a number to check153\n",
      "153 is an Armstrong Number\n"
     ]
    }
   ],
   "source": [
    "# abcd... = pow(a,n) + pow(b,n) + pow(c,n) + pow(d,n)\n",
    "def power(num,p):\n",
    "    \"\"\"Function to return the power value\"\"\"\n",
    "    rvalue=1\n",
    "    for i in range(p):\n",
    "        rvalue*=num\n",
    "    return rvalue\n",
    "\n",
    "def lenOfNum(num):\n",
    "    \"\"\"Function to find the length of a number\"\"\"\n",
    "    n=0\n",
    "    while(num!=0):\n",
    "        n=n+1\n",
    "        num=num//10\n",
    "    return n\n",
    "\n",
    "num1=int(input(\"Enter a number to check\"))\n",
    "lnum1=lenOfNum(num1)\n",
    "\n",
    "snum1=0\n",
    "temp=num1\n",
    "\n",
    "for i in range(lnum1):\n",
    "    rem=temp%10\n",
    "    snum1+=power(rem,lnum1)\n",
    "    temp=temp//10\n",
    "    \n",
    "\n",
    "if snum1==num1:\n",
    "    print(\"{0} is an Armstrong Number\".format(num1))\n",
    "else:\n",
    "    print(\"{} is not an Armstrong Number\".format(num1))"
   ]
  },
  {
   "cell_type": "markdown",
   "metadata": {},
   "source": [
    "## Area of a Circle"
   ]
  },
  {
   "cell_type": "code",
   "execution_count": 22,
   "metadata": {},
   "outputs": [
    {
     "name": "stdout",
     "output_type": "stream",
     "text": [
      "Enter radius of a circle3\n",
      "Area of Circle is 28.274333882308138\n"
     ]
    }
   ],
   "source": [
    "# Area=PI*R^2\n",
    "from math import pi\n",
    "def areaOfCircle(r):\n",
    "    \"\"\"Function returns Area of a circle\"\"\"\n",
    "    return pi*r*r\n",
    "\n",
    "num1=int(input(\"Enter radius of a circle\"))\n",
    "print(\"Area of Circle is {}\".format(areaOfCircle(num1)))"
   ]
  },
  {
   "cell_type": "markdown",
   "metadata": {},
   "source": [
    "## Prime Numbers in an Interval"
   ]
  },
  {
   "cell_type": "code",
   "execution_count": 9,
   "metadata": {},
   "outputs": [
    {
     "name": "stdout",
     "output_type": "stream",
     "text": [
      "Enter Start Number10\n",
      "Enter End Number100\n",
      "Printing Prime numbers between 10 and 100\n",
      "Number 11 is a Prime Number\n",
      "Number 13 is a Prime Number\n",
      "Number 17 is a Prime Number\n",
      "Number 19 is a Prime Number\n",
      "Number 23 is a Prime Number\n",
      "Number 29 is a Prime Number\n",
      "Number 31 is a Prime Number\n",
      "Number 37 is a Prime Number\n",
      "Number 41 is a Prime Number\n",
      "Number 43 is a Prime Number\n",
      "Number 47 is a Prime Number\n",
      "Number 53 is a Prime Number\n",
      "Number 59 is a Prime Number\n",
      "Number 61 is a Prime Number\n",
      "Number 67 is a Prime Number\n",
      "Number 71 is a Prime Number\n",
      "Number 73 is a Prime Number\n",
      "Number 79 is a Prime Number\n",
      "Number 83 is a Prime Number\n",
      "Number 89 is a Prime Number\n",
      "Number 97 is a Prime Number\n"
     ]
    }
   ],
   "source": [
    "def isPrimeNum(num):\n",
    "    \"\"\" Function to return if given number is a prime number\"\"\"\n",
    "    for n in range(2,num):\n",
    "        if (num%n==0):\n",
    "            return False\n",
    "    return True\n",
    "def primeNum(sNum,eNum):\n",
    "    \"\"\"Function to print prime numbers between two numbers\"\"\"\n",
    "    for n in range(sNum,eNum+1):\n",
    "        if isPrimeNum(n):\n",
    "            print(\"Number {0} is a Prime Number\".format(n))\n",
    "        #else:\n",
    "         #   print(\"Number {0} is not a Prime Number\".format(n))\n",
    "\n",
    "num1=int(input(\"Enter Start Number\"))\n",
    "num2=int(input(\"Enter End Number\"))\n",
    "\n",
    "print(\"Printing Prime numbers between {0} and {1}\".format(num1,num2))\n",
    "primeNum(num1,num2)\n"
   ]
  },
  {
   "cell_type": "markdown",
   "metadata": {},
   "source": [
    "## Check if given number is prime number"
   ]
  },
  {
   "cell_type": "code",
   "execution_count": 14,
   "metadata": {},
   "outputs": [
    {
     "name": "stdout",
     "output_type": "stream",
     "text": [
      "Enter Number23\n",
      "is Number 23 a prime number ? True\n"
     ]
    }
   ],
   "source": [
    "def isPrimeNum(num):\n",
    "    \"\"\"Function to check if number is prime number\"\"\"\n",
    "    for n in range(2,num):\n",
    "        if (num%n==0):\n",
    "            return False\n",
    "    return True\n",
    "\n",
    "iNum=int(input(\"Enter Number\"))\n",
    "print(\"is Number {0} a prime number ? {1}\".format(iNum,isPrimeNum(iNum)))"
   ]
  },
  {
   "cell_type": "markdown",
   "metadata": {},
   "source": [
    "## nth Fibonacci Number"
   ]
  },
  {
   "cell_type": "code",
   "execution_count": 21,
   "metadata": {},
   "outputs": [
    {
     "name": "stdout",
     "output_type": "stream",
     "text": [
      "Enter the number to find Fibonacci Number9\n",
      "Fibonacci Number of 9 is 21\n"
     ]
    }
   ],
   "source": [
    "def fibonacciNum(num):\n",
    "    \"\"\"Function to print Fibonacci Number\"\"\"\n",
    "    _sum=0\n",
    "    if num<0:\n",
    "        print(\"This is an Invalid Number\")\n",
    "    elif num==0 or num==1:\n",
    "        _sum+=num\n",
    "    else:\n",
    "        _sum+=fibonacciNum(num-1)+fibonacciNum(num-2)\n",
    "    return _sum\n",
    "\n",
    "num1=int(input(\"Enter the number to find Fibonacci Number\"))\n",
    "print(\"Fibonacci Number of {0} is {1}\".format(num1,fibonacciNum(num1-1)))"
   ]
  },
  {
   "cell_type": "markdown",
   "metadata": {},
   "source": [
    "## Fibonacci Numbers"
   ]
  },
  {
   "cell_type": "code",
   "execution_count": 20,
   "metadata": {},
   "outputs": [
    {
     "name": "stdout",
     "output_type": "stream",
     "text": [
      "Enter the number9\n",
      "0\n",
      "1\n",
      "1\n",
      "2\n",
      "3\n",
      "5\n",
      "8\n",
      "13\n",
      "21\n"
     ]
    }
   ],
   "source": [
    "def fibonacciNum(num):\n",
    "    \"\"\"Function to print the Fibonacci Numbers\"\"\"\n",
    "    _sum=0\n",
    "    if num<0:\n",
    "        print(\"This is an Invalid Number\")\n",
    "    elif num==0 or num==1:\n",
    "        _sum+=num\n",
    "    else:\n",
    "        _sum+=fibonacciNum(num-1)+fibonacciNum(num-2)\n",
    "    return _sum\n",
    "\n",
    "num1=int(input(\"Enter the number\"))\n",
    "oNum=0\n",
    "\n",
    "for i in range(num1):\n",
    "    oNum=fibonacciNum(i)\n",
    "    print(oNum)\n"
   ]
  },
  {
   "cell_type": "markdown",
   "metadata": {},
   "source": [
    "## Is given number a Fibonacci Number"
   ]
  },
  {
   "cell_type": "code",
   "execution_count": 28,
   "metadata": {},
   "outputs": [
    {
     "name": "stdout",
     "output_type": "stream",
     "text": [
      "Enter a number to check Fibonacci NUmber34\n",
      "34 is a Fibonacci number\n"
     ]
    }
   ],
   "source": [
    "# A number is Fibonacci if and only if one or both of (5*n2 + 4) or (5*n2 – 4) is a perfect square\n",
    "import math\n",
    "def isPerfectSquare(cNum):\n",
    "    \"\"\"Function to check if number is perfect square\"\"\"\n",
    "    sqnum=int(math.sqrt(cNum))\n",
    "    return sqnum*sqnum==cNum\n",
    "\n",
    "def isFibonacci(fNum):\n",
    "    \"\"\"Function to check if number is Fibonacci Number\"\"\"\n",
    "    if (isPerfectSquare(5*fNum*fNum+4)) or (isPerfectSquare(5*fNum*fNum-4)):\n",
    "        return True\n",
    "    return False\n",
    "\n",
    "num=int(input(\"Enter a number to check Fibonacci NUmber\"))\n",
    "if isFibonacci(num):\n",
    "    print(\"{} is a Fibonacci number\".format(num))\n",
    "else:\n",
    "    print(\"{} is not a Fibonacci number\".format(num))\n",
    "    \n",
    "    "
   ]
  },
  {
   "cell_type": "markdown",
   "metadata": {},
   "source": [
    "## ASCII Value of a Character"
   ]
  },
  {
   "cell_type": "code",
   "execution_count": 31,
   "metadata": {},
   "outputs": [
    {
     "name": "stdout",
     "output_type": "stream",
     "text": [
      "Enter a character to find the ASCII valueD\n",
      "ASCII value of character D is 68\n"
     ]
    }
   ],
   "source": [
    "_char=input(\"Enter a character to find the ASCII value\")\n",
    "print(\"ASCII value of character {0} is {1}\".format(_char,ord(_char)))"
   ]
  },
  {
   "cell_type": "markdown",
   "metadata": {},
   "source": [
    "## Sum of Squares of first n Natural Numbers"
   ]
  },
  {
   "cell_type": "code",
   "execution_count": 35,
   "metadata": {},
   "outputs": [
    {
     "name": "stdout",
     "output_type": "stream",
     "text": [
      "Enter a natual number n:5\n",
      "Sum of squares of first n natual numbers of 5 is 55\n"
     ]
    }
   ],
   "source": [
    "def sumOfSquares(num):\n",
    "    \"\"\"Function to return sum of squares of N Natural Numbers\"\"\"\n",
    "    _sum=0\n",
    "    for n in range(num+1):\n",
    "        _sum+=n*n\n",
    "    return _sum\n",
    "\n",
    "num=int(input(\"Enter a natual number n:\"))\n",
    "_totalSum=sumOfSquares(num)\n",
    "print(\"Sum of squares of first n natual numbers of {0} is {1}\".format(num,_totalSum))"
   ]
  },
  {
   "cell_type": "markdown",
   "metadata": {},
   "source": [
    "## Sum of Cube of first n Natual Numbers"
   ]
  },
  {
   "cell_type": "code",
   "execution_count": 37,
   "metadata": {},
   "outputs": [
    {
     "name": "stdout",
     "output_type": "stream",
     "text": [
      "Enter a natual number n:7\n",
      "Sum of cubes of first n natural numbers of 7 is 784\n"
     ]
    }
   ],
   "source": [
    "def sumOfCubes(num):\n",
    "    \"\"\"Function to return sum of cubes of N Natual Numbers\"\"\"\n",
    "    _sum=0\n",
    "    for n in range(num+1):\n",
    "        _sum+=n*n*n\n",
    "    return _sum\n",
    "\n",
    "num=int(input(\"Enter a natual number n:\"))\n",
    "_totalSum=sumOfCubes(num)\n",
    "print(\"Sum of cubes of first n natural numbers of {0} is {1}\".format(num,_totalSum))"
   ]
  },
  {
   "cell_type": "code",
   "execution_count": null,
   "metadata": {},
   "outputs": [],
   "source": []
  }
 ],
 "metadata": {
  "kernelspec": {
   "display_name": "Python 3",
   "language": "python",
   "name": "python3"
  },
  "language_info": {
   "codemirror_mode": {
    "name": "ipython",
    "version": 3
   },
   "file_extension": ".py",
   "mimetype": "text/x-python",
   "name": "python",
   "nbconvert_exporter": "python",
   "pygments_lexer": "ipython3",
   "version": "3.7.6"
  }
 },
 "nbformat": 4,
 "nbformat_minor": 4
}
