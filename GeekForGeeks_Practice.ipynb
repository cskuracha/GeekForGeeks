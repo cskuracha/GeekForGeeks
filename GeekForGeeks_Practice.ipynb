{
 "cells": [
  {
   "cell_type": "markdown",
   "metadata": {},
   "source": [
    "## Factorial"
   ]
  },
  {
   "cell_type": "code",
   "execution_count": 1,
   "metadata": {},
   "outputs": [
    {
     "name": "stdout",
     "output_type": "stream",
     "text": [
      "120\n"
     ]
    }
   ],
   "source": [
    "def fact(n):\n",
    "    \"\"\"Function to calculate Factorial\"\"\"\n",
    "    if n==0 or n==1:\n",
    "        return 1\n",
    "    else:\n",
    "        nfact=n*fact(n-1)\n",
    "        return nfact\n",
    "\n",
    "num=5\n",
    "print(fact(num))"
   ]
  },
  {
   "cell_type": "markdown",
   "metadata": {},
   "source": [
    "## Simple Interest Calculation"
   ]
  },
  {
   "cell_type": "code",
   "execution_count": 4,
   "metadata": {},
   "outputs": [
    {
     "name": "stdout",
     "output_type": "stream",
     "text": [
      "5000.0\n",
      "5000.0\n"
     ]
    }
   ],
   "source": [
    "def simpleInt(p,t,r):\n",
    "    \"\"\"Function to calculate simple interest\"\"\"\n",
    "    simInt=(p*t*r)/100\n",
    "    return simInt\n",
    "\n",
    "principle=10000\n",
    "time=5\n",
    "rate=10\n",
    "print(simpleInt(principle,time,rate))"
   ]
  },
  {
   "cell_type": "markdown",
   "metadata": {},
   "source": [
    "## Compound Interest"
   ]
  },
  {
   "cell_type": "code",
   "execution_count": 4,
   "metadata": {},
   "outputs": [
    {
     "name": "stdout",
     "output_type": "stream",
     "text": [
      "1333.0992\n"
     ]
    }
   ],
   "source": [
    "def compoundInt(p,t,r):\n",
    "    \"\"\"Function to calculate compound interest\"\"\"\n",
    "    compInt=p*pow((1+r/100),t)\n",
    "    return compInt\n",
    "principle=1200\n",
    "time=2\n",
    "rate=5.4\n",
    "print(compoundInt(principle, time,rate))\n"
   ]
  },
  {
   "cell_type": "markdown",
   "metadata": {},
   "source": [
    "## Armstrong Number"
   ]
  },
  {
   "cell_type": "code",
   "execution_count": 2,
   "metadata": {},
   "outputs": [
    {
     "name": "stdout",
     "output_type": "stream",
     "text": [
      "Number is an Armstrong Number\n"
     ]
    }
   ],
   "source": [
    "def armstrongNum(num):\n",
    "    \"\"\"Check whether the number is Armstrong number or not\"\"\"\n",
    "    strnum=str(num)\n",
    "    ordn=len(strnum)\n",
    "    anum=0\n",
    "    # A number is said to be Armstrong number if abcd... = pow(a,n) + pow(b,n) + pow(c,n) + pow(d,n) + ....\n",
    "    # 153=1*1*1+5*5*5+3*3*3\n",
    "    for i in range(0,ordn):\n",
    "        anum+=int(strnum[i])**ordn\n",
    "    if anum==num:\n",
    "        return True\n",
    "    else:\n",
    "        return False\n",
    "\n",
    "if armstrongNum(1634)==True:\n",
    "    print(\"Number is an Armstrong Number\")\n",
    "else:\n",
    "    print(\"Number is not an Armstrong Number\")\n",
    "\n",
    "        "
   ]
  },
  {
   "cell_type": "markdown",
   "metadata": {},
   "source": [
    "## Area of a circle"
   ]
  },
  {
   "cell_type": "code",
   "execution_count": 3,
   "metadata": {},
   "outputs": [
    {
     "name": "stdout",
     "output_type": "stream",
     "text": [
      "Area of circle: 12.566370614359172\n"
     ]
    }
   ],
   "source": [
    "from math import pi as pi\n",
    "def areaCircle(r):\n",
    "    \"\"\"Function to calculate area of a circle\"\"\"\n",
    "    # Area of a circle is PI* r**2\n",
    "    area=pi*r*r\n",
    "    return area\n",
    "print(\"Area of circle: {}\".format(areaCircle(2)))"
   ]
  },
  {
   "cell_type": "markdown",
   "metadata": {},
   "source": [
    "## Prime numbers in an Interval"
   ]
  },
  {
   "cell_type": "code",
   "execution_count": 9,
   "metadata": {},
   "outputs": [
    {
     "name": "stdout",
     "output_type": "stream",
     "text": [
      "1 is a Prime Number\n",
      "2 is a Prime Number\n",
      "3 is a Prime Number\n",
      "5 is a Prime Number\n",
      "7 is a Prime Number\n",
      "11 is a Prime Number\n",
      "13 is a Prime Number\n",
      "17 is a Prime Number\n",
      "19 is a Prime Number\n",
      "23 is a Prime Number\n",
      "29 is a Prime Number\n",
      "31 is a Prime Number\n",
      "37 is a Prime Number\n",
      "41 is a Prime Number\n",
      "43 is a Prime Number\n",
      "47 is a Prime Number\n",
      "53 is a Prime Number\n",
      "59 is a Prime Number\n",
      "61 is a Prime Number\n",
      "67 is a Prime Number\n",
      "71 is a Prime Number\n",
      "73 is a Prime Number\n",
      "79 is a Prime Number\n",
      "83 is a Prime Number\n",
      "89 is a Prime Number\n",
      "97 is a Prime Number\n",
      "2\n"
     ]
    }
   ],
   "source": [
    "def primeNum(startNum,endNum):\n",
    "    \"\"\"Function to print the Prime Numbers between an interval\"\"\"\n",
    "    #A number is said to be a prime number if is divisible by 1 and number itself\n",
    "    for num in range(startNum,endNum+1):\n",
    "        count=0\n",
    "        for dNum in range(2,num):\n",
    "            if num%dNum==0:\n",
    "                count+=1\n",
    "        if count==0:\n",
    "            print(\"{0} is a Prime Number\".format(num))\n",
    "\n",
    "primeNum(1,100)\n",
    "print(5//2)"
   ]
  },
  {
   "cell_type": "code",
   "execution_count": 12,
   "metadata": {},
   "outputs": [
    {
     "name": "stdout",
     "output_type": "stream",
     "text": [
      "11 is a Prime Number\n",
      "13 is a Prime Number\n",
      "17 is a Prime Number\n",
      "19 is a Prime Number\n",
      "23 is a Prime Number\n"
     ]
    }
   ],
   "source": [
    "def primeNumGFG(startNum,endNum):\n",
    "    \"\"\" Function to print Prime number in an interval - Logic from Geekforgeeks\"\"\"\n",
    "    for num in range(startNum,endNum+1):\n",
    "        # Prime numbers should be greater than 1\n",
    "        if num>1:\n",
    "            # Checking if the number is divisible in range from 2 to half of the number + 1\n",
    "            for dNum in range(2, num//2+2):\n",
    "                # If any of the number is divisible then break the loop\n",
    "                if num%dNum==0:\n",
    "                    break\n",
    "                else:\n",
    "                    # If dNum reaches last and did not find the divisible number, then it is a prime number\n",
    "                    if dNum==num//2+1:\n",
    "                        print(\"{} is a Prime Number\".format(num))\n",
    "\n",
    "primeNumGFG(11,25)\n",
    "            "
   ]
  },
  {
   "cell_type": "markdown",
   "metadata": {},
   "source": [
    "## A number is a prime number or not?"
   ]
  },
  {
   "cell_type": "code",
   "execution_count": 19,
   "metadata": {},
   "outputs": [
    {
     "name": "stdout",
     "output_type": "stream",
     "text": [
      "11 is a Prime Number\n"
     ]
    }
   ],
   "source": [
    "def checkPrimeNum(iNum):\n",
    "    \"\"\"Function to check if a number is a prime number or not\"\"\"\n",
    "    if iNum>1:\n",
    "        # Checking if iNum is divisible from 2 to half of iNum\n",
    "        for dNum in range(2,iNum//2+2):\n",
    "            if iNum%dNum==0:\n",
    "                print(\"{} is not a Prime Number\".format(iNum))\n",
    "                break\n",
    "            else:\n",
    "                # if dNum reaches the last number then iNum is not divisible\n",
    "                if dNum==iNum//2+1:\n",
    "                    print(\"{} is a Prime Number\".format(iNum))\n",
    "    else:\n",
    "        print(\"{} is not a Prime Number\".format(iNum))\n",
    "\n",
    "checkPrimeNum(11)"
   ]
  },
  {
   "cell_type": "markdown",
   "metadata": {},
   "source": [
    "## n-th Fibonacci Number"
   ]
  },
  {
   "cell_type": "code",
   "execution_count": 27,
   "metadata": {},
   "outputs": [
    {
     "name": "stdout",
     "output_type": "stream",
     "text": [
      "9 Fibonacci number is 21\n"
     ]
    }
   ],
   "source": [
    "# Fibonacci - Fn=Fn-1+Fn-2 and F0=0 and F1=1\n",
    "def FibonacciNum(iNum):\n",
    "    \"\"\"Function to find the nth Fibonacci Number\"\"\"\n",
    "    if iNum<0:\n",
    "        print(\"Incorrect Input\")\n",
    "    elif iNum==1:\n",
    "        return 0\n",
    "    elif iNum==2:\n",
    "        return 1\n",
    "    else:\n",
    "        return FibonacciNum(iNum-1)+FibonacciNum(iNum-2)\n",
    "    \n",
    "\n",
    "print(\"{0} Fibonacci number is {1}\".format(9,FibonacciNum(9)))\n",
    "        "
   ]
  },
  {
   "cell_type": "markdown",
   "metadata": {},
   "source": [
    "## Check if a number is a Fibonacci or not"
   ]
  },
  {
   "cell_type": "code",
   "execution_count": 38,
   "metadata": {},
   "outputs": [
    {
     "name": "stdout",
     "output_type": "stream",
     "text": [
      "6 is not a Finonacci number\n",
      "8 is a Finonacci number\n",
      "34 is a Finonacci number\n",
      "41 is not a Finonacci number\n",
      "55 is a Finonacci number\n"
     ]
    }
   ],
   "source": [
    "# A number is Fibonacci if and only if one or both of (5*n2 + 4) or (5*n2 – 4) is a perfect square (Source: Wiki).\n",
    "import math as m\n",
    "def isPerfectSqr(cNum):\n",
    "    \"\"\"Function to check if number is a perfect square\"\"\"\n",
    "    sqrootNum=int(m.sqrt(cNum))\n",
    "    if cNum==sqrootNum*sqrootNum:\n",
    "        return True\n",
    "    else:\n",
    "        return False\n",
    "\n",
    "def checkFibNum(iNum):\n",
    "    \"\"\"Function to check values of Fibonacci Number\"\"\"\n",
    "    cNum1=5*(iNum**2)+4\n",
    "    cNum2=5*(iNum**2)-4\n",
    "    if isPerfectSqr(cNum1)== True or isPerfectSqr(cNum2)==True:\n",
    "        print(\"{} is a Finonacci number\".format(iNum))\n",
    "    else:\n",
    "        print(\"{} is not a Finonacci number\".format(iNum))\n",
    "\n",
    "checkFibNum(6)\n",
    "checkFibNum(8)\n",
    "checkFibNum(34)\n",
    "checkFibNum(41)\n",
    "checkFibNum(55)    \n",
    "    "
   ]
  },
  {
   "cell_type": "markdown",
   "metadata": {},
   "source": [
    "## nth multiple of a number in Fibonacci Series"
   ]
  },
  {
   "cell_type": "code",
   "execution_count": null,
   "metadata": {},
   "outputs": [
    {
     "name": "stdout",
     "output_type": "stream",
     "text": [
      "3 multiple of 2 in Fibonacci series is 34\n"
     ]
    }
   ],
   "source": [
    "# Find the nth multiple of a number in Fibonacci Series\n",
    "def fibNum(iNum):\n",
    "    \"\"\"Test Function to print Fibonacci Series\"\"\"\n",
    "    if iNum<0:\n",
    "        print(\"Invalid Input\")\n",
    "    elif iNum==1:\n",
    "        return 0\n",
    "    elif iNum==2:\n",
    "        return 1\n",
    "    else:\n",
    "        return fibNum(iNum-1)+fibNum(iNum-2)\n",
    "\n",
    "#for i in range(1,20):\n",
    "#    print(fibNum(i))\n",
    "\n",
    "def nMultipleFib(k,n):\n",
    "    \"\"\"Function to find the nth multiple of K\"\"\"\n",
    "    count=0\n",
    "    for i in range(2,100):\n",
    "        if fibNum(i)%k==0:\n",
    "            count+=1\n",
    "            if count==n:\n",
    "                print(\"{0} multiple of {1} in Fibonacci series is {2}\".format(n,k,fibNum(i)))\n",
    "\n",
    "nMultipleFib(2,3)\n",
    "        "
   ]
  },
  {
   "cell_type": "code",
   "execution_count": null,
   "metadata": {},
   "outputs": [],
   "source": []
  },
  {
   "cell_type": "code",
   "execution_count": null,
   "metadata": {},
   "outputs": [],
   "source": []
  }
 ],
 "metadata": {
  "kernelspec": {
   "display_name": "Python 3",
   "language": "python",
   "name": "python3"
  },
  "language_info": {
   "codemirror_mode": {
    "name": "ipython",
    "version": 3
   },
   "file_extension": ".py",
   "mimetype": "text/x-python",
   "name": "python",
   "nbconvert_exporter": "python",
   "pygments_lexer": "ipython3",
   "version": "3.7.6"
  }
 },
 "nbformat": 4,
 "nbformat_minor": 4
}
