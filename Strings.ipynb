{
 "cells": [
  {
   "cell_type": "markdown",
   "metadata": {},
   "source": [
    "# Strings\n",
    "\n",
    "\n",
    "Python program to check if a string is palindrome or not\n",
    "\n",
    "Reverse words in a given String in Python\n",
    "\n",
    "Ways to remove i’th character from string in Python\n",
    "\n",
    "Python | Check if a Substring is Present in a Given String\n",
    "\n",
    "Find length of a string in python (4 ways)\n",
    "\n",
    "Python program to print even length words in a string\n",
    "\n",
    "Python | Program to accept the strings which contains all vowels\n",
    "\n",
    "Python | Count the Number of matching characters in a pair of string\n",
    "\n",
    "Python program to count number of vowels using sets in given string\n",
    "\n",
    "Remove all duplicates from a given string in Python\n",
    "\n",
    "Python | Program to check if a string contains any special character\n",
    "\n",
    "Generating random strings until a given string is generated\n",
    "\n",
    "Find words which are greater than given length k\n",
    "\n",
    "Python program for removing i-th character from a string\n",
    "\n",
    "Python program to split and join a string\n",
    "\n",
    "Python | Check if a given string is binary string or not\n",
    "\n",
    "Python | Find all close matches of input string from a list\n",
    "\n",
    "Python program to find uncommon words from two Strings\n",
    "\n",
    "Python | Swap commas and dots in a String\n",
    "\n",
    "Python | Permutation of a given string using inbuilt function\n",
    "\n",
    "Python | Check for URL in a String\n",
    "\n",
    "Execute a String of Code in Python\n",
    "\n",
    "String slicing in Python to rotate a string\n",
    "\n",
    "String slicing in Python to check if a string can become empty by recursive deletion\n",
    "\n",
    "Python Counter| Find all duplicate characters in string"
   ]
  },
  {
   "cell_type": "markdown",
   "metadata": {},
   "source": [
    "## Given String is Palindrome or not ?"
   ]
  },
  {
   "cell_type": "code",
   "execution_count": 19,
   "metadata": {},
   "outputs": [
    {
     "name": "stdout",
     "output_type": "stream",
     "text": [
      "is String a Palindrome ? True\n",
      "is String a Palindrome ? True\n"
     ]
    }
   ],
   "source": [
    "def isPalindrome(stringQ):\n",
    "    \"\"\"Function to check if string is Palindrome\"\"\"\n",
    "    stringQ=stringQ.lower()\n",
    "    revString=stringQ[::-1]\n",
    "    if list(stringQ)==list(revString):\n",
    "        return True\n",
    "    else:\n",
    "        return False\n",
    "    \n",
    "\n",
    "print(\"is String a Palindrome ? {}\".format(isPalindrome(\"Madam\")))\n",
    "\n",
    "def isPalindrome2(stringQ):\n",
    "    \"\"\"Function to check if string is Palindrome\"\"\"\n",
    "    stringQ=stringQ.lower()\n",
    "    revString=\"\".join(reversed(stringQ))\n",
    "    if list(stringQ)==list(revString):\n",
    "        return True\n",
    "    else:\n",
    "        return False\n",
    "\n",
    "print(\"is String a Palindrome ? {}\".format(isPalindrome(\"Madam\")))"
   ]
  },
  {
   "cell_type": "markdown",
   "metadata": {},
   "source": [
    "## Reverse words in a string"
   ]
  },
  {
   "cell_type": "code",
   "execution_count": 21,
   "metadata": {},
   "outputs": [
    {
     "name": "stdout",
     "output_type": "stream",
     "text": [
      "String reverse is World Hello\n"
     ]
    }
   ],
   "source": [
    "def reverseWords(iString):\n",
    "    \"\"\"Function to return reverse of a string\"\"\"\n",
    "    words=iString.split()\n",
    "    reverseStr=\" \".join(reversed(words))\n",
    "    return reverseStr\n",
    "print(\"String reverse is {}\".format(reverseWords(\"Hello World\")))"
   ]
  },
  {
   "cell_type": "markdown",
   "metadata": {},
   "source": [
    "## Remove i'th Character from a String"
   ]
  },
  {
   "cell_type": "code",
   "execution_count": 30,
   "metadata": {},
   "outputs": [
    {
     "name": "stdout",
     "output_type": "stream",
     "text": [
      "Dar Fantasy\n",
      "Removing ith Char Dar Fantasy\n",
      "Removing ith Char Dar Fantasy\n"
     ]
    }
   ],
   "source": [
    "def removeChar(iStr,iChar):\n",
    "    \"\"\"Function to remove ith character from string\"\"\"\n",
    "    nStr=\"\"\n",
    "    for n in range(len(iStr)):\n",
    "        if n!=iChar:\n",
    "            nStr+=iStr[n]\n",
    "    print(nStr)\n",
    "    return nStr\n",
    "\n",
    "print(\"Removing ith Char {}\".format(removeChar(\"Dark Fantasy\",3)))\n",
    "\n",
    "def removeChar2(iStr,iChar):\n",
    "    \"\"\"Function to remove ith character from string\"\"\"\n",
    "    nStr=\"\".join([iStr[i] for i in range(len(iStr)) if i!=iChar])\n",
    "    return nStr\n",
    "\n",
    "print(\"Removing ith Char {}\".format(removeChar2(\"Dark Fantasy\",3)))"
   ]
  },
  {
   "cell_type": "markdown",
   "metadata": {},
   "source": [
    "## Check if a Substring is Present in Given String"
   ]
  },
  {
   "cell_type": "code",
   "execution_count": 38,
   "metadata": {},
   "outputs": [
    {
     "name": "stdout",
     "output_type": "stream",
     "text": [
      "is 'example' present in 'This is an example string'? True\n",
      "is 'example' present in 'This is an example string'? True\n",
      "is 'example' present in 'This is an example string'? True\n"
     ]
    }
   ],
   "source": [
    "def findSubstring(qStr,sStr):\n",
    "    \"\"\"Function to find if Substring is present in String\"\"\"\n",
    "    if qStr.find(sStr):\n",
    "        return True\n",
    "    else:\n",
    "        return False\n",
    "\n",
    "def findSubstring2(qStr,sStr):\n",
    "    \"\"\"Function to find if Substring is present in String\"\"\"\n",
    "    if qStr.count(sStr)>0:\n",
    "        return True\n",
    "    else:\n",
    "        return False\n",
    "    \n",
    "import re\n",
    "\n",
    "def findSubstring3(qStr,sStr):\n",
    "    \"\"\"Function to find if Substring is present in String\"\"\"\n",
    "    if re.search(sStr,qStr):\n",
    "        return True\n",
    "    else:\n",
    "        return False\n",
    "\n",
    "qStr=\"This is an example string\"\n",
    "sStr=\"example\"\n",
    "\n",
    "print(\"is '{1}' present in '{0}'? {2}\".format(qStr,sStr,findSubstring(qStr,sStr)))\n",
    "print(\"is '{1}' present in '{0}'? {2}\".format(qStr,sStr,findSubstring2(qStr,sStr)))\n",
    "print(\"is '{1}' present in '{0}'? {2}\".format(qStr,sStr,findSubstring3(qStr,sStr)))"
   ]
  },
  {
   "cell_type": "markdown",
   "metadata": {},
   "source": [
    "## Find Length of a String"
   ]
  },
  {
   "cell_type": "code",
   "execution_count": 41,
   "metadata": {},
   "outputs": [
    {
     "name": "stdout",
     "output_type": "stream",
     "text": [
      "Length of a string is 25\n",
      "Length of a string is 25\n",
      "Length of a string is 25\n"
     ]
    }
   ],
   "source": [
    "def usingLen(qStr):\n",
    "    \"\"\"Function to find the length of a String\"\"\"\n",
    "    return len(qStr)\n",
    "\n",
    "def usingCount(qStr):\n",
    "    \"\"\"Function to find the length of a string\"\"\"\n",
    "    count=0\n",
    "    for i in qStr:\n",
    "        count+=1\n",
    "    return count\n",
    "\n",
    "def usingWhile(qStr):\n",
    "    \"\"\"Function to find the length of a string\"\"\"\n",
    "    counter=0\n",
    "    while qStr[counter:]:\n",
    "        counter+=1\n",
    "    return counter\n",
    "\n",
    "qStr=\"This is an example string\"\n",
    "\n",
    "print(\"Length of a string is {}\".format(usingLen(qStr)))\n",
    "print(\"Length of a string is {}\".format(usingCount(qStr)))\n",
    "print(\"Length of a string is {}\".format(usingWhile(qStr)))"
   ]
  },
  {
   "cell_type": "markdown",
   "metadata": {},
   "source": [
    "## Print Even length words in a String"
   ]
  },
  {
   "cell_type": "code",
   "execution_count": 7,
   "metadata": {},
   "outputs": [
    {
     "name": "stdout",
     "output_type": "stream",
     "text": [
      "Printing the even words ['This', 'is', 'sample', 'string']\n"
     ]
    }
   ],
   "source": [
    "def findEvenLen(iString):\n",
    "    \"\"\"Function to print even length words\"\"\"\n",
    "    s2w=iString.split(\" \")\n",
    "    nString=[]\n",
    "    length=0\n",
    "    for s in s2w:\n",
    "        length=len(s)\n",
    "        if length%2==0:\n",
    "            nString.append(s)\n",
    "    return nString\n",
    "\n",
    "print(\"Printing the even words {}\".format(findEvenLen(\"This is a sample string\")))"
   ]
  },
  {
   "cell_type": "markdown",
   "metadata": {},
   "source": [
    "## Accept the strings which contains all vowels"
   ]
  },
  {
   "cell_type": "code",
   "execution_count": 10,
   "metadata": {},
   "outputs": [
    {
     "name": "stdout",
     "output_type": "stream",
     "text": [
      "All vowels in string True\n"
     ]
    }
   ],
   "source": [
    "def stringCheck(iString):\n",
    "    \"\"\"Function to check if string contains all vowels\"\"\"\n",
    "    vow={'a','e','i','o','u'}\n",
    "    cStr=set({})\n",
    "    iString=iString.lower()\n",
    "    for c in iString:\n",
    "        if c in vow:\n",
    "            cStr.add(c)\n",
    "    if len(cStr)==len(vow):\n",
    "        return True\n",
    "    else:\n",
    "        return False\n",
    "\n",
    "print(\"All vowels in string {}\".format(stringCheck(\"ABeeIghi ObhkUul\")))"
   ]
  },
  {
   "cell_type": "markdown",
   "metadata": {},
   "source": [
    "## Count the matching characters in a pair of string"
   ]
  },
  {
   "cell_type": "code",
   "execution_count": 15,
   "metadata": {},
   "outputs": [
    {
     "name": "stdout",
     "output_type": "stream",
     "text": [
      "Count of matching charcters 5\n",
      "Count of matching charcters 5\n"
     ]
    }
   ],
   "source": [
    "def count(iStr1,iStr2):\n",
    "    \"\"\"Function to count the matching characters in a pair of string\"\"\"\n",
    "    c=0\n",
    "    for i in iStr1:\n",
    "        if iStr2.find(i)>=0:\n",
    "            c+=1\n",
    "    return c\n",
    "\n",
    "def count2(iStr1,iStr2):\n",
    "    \"\"\"Function to count the matching characters in a pair of string\"\"\"\n",
    "    sStr1=set(iStr1)\n",
    "    sStr2=set(iStr2)\n",
    "    count=sStr1&sStr2\n",
    "    return len(count)\n",
    "\n",
    "str1=\"aabcddekll12@\"\n",
    "str2=\"bb2211@55k\"\n",
    "print(\"Count of matching charcters {}\".format(count(str1,str2)))\n",
    "print(\"Count of matching charcters {}\".format(count2(str1,str2)))"
   ]
  },
  {
   "cell_type": "markdown",
   "metadata": {},
   "source": [
    "## Count vowels in a String"
   ]
  },
  {
   "cell_type": "code",
   "execution_count": 17,
   "metadata": {},
   "outputs": [
    {
     "name": "stdout",
     "output_type": "stream",
     "text": [
      "# of vowels in string is 6\n"
     ]
    }
   ],
   "source": [
    "def countVowels(iString):\n",
    "    \"\"\"Function to count vowels in a string\"\"\"\n",
    "    vow={'a','e','i','o','u'}\n",
    "    iString=iString.lower()\n",
    "    count=0\n",
    "    for c in iString:\n",
    "        if c in vow:\n",
    "            count+=1\n",
    "    return count\n",
    "\n",
    "def countVowels(iString):\n",
    "    \"\"\"Function to count vowels in a string\"\"\"\n",
    "    vow={'a','e','i','o','u'}\n",
    "    \n",
    "\n",
    "str1=\"This is a sample string\"\n",
    "\n",
    "print(\"# of vowels in string is {}\".format(countVowels(str1)))"
   ]
  },
  {
   "cell_type": "markdown",
   "metadata": {},
   "source": [
    "## Remove All duplicates from the string"
   ]
  },
  {
   "cell_type": "code",
   "execution_count": 25,
   "metadata": {},
   "outputs": [
    {
     "name": "stdout",
     "output_type": "stream",
     "text": [
      "String after removing duplicates srgfeok\n",
      "String after removing duplicates gekfors\n",
      "String after removing duplicates gekfors\n"
     ]
    }
   ],
   "source": [
    "def remDup1(iStr):\n",
    "    \"\"\"Function to remove all duplicates from the string\"\"\"\n",
    "    return \"\".join(set(iStr))\n",
    "\n",
    "\n",
    "from collections import OrderedDict\n",
    "def remDup2(iStr):\n",
    "    \"\"\"Function to remove all duplicates from the string\"\"\"\n",
    "    return \"\".join(OrderedDict.fromkeys(iStr))\n",
    "\n",
    "def remDup3(iStr):\n",
    "    \"\"\"Function to remove all duplicates from the string\"\"\"\n",
    "    nStr=\"\"\n",
    "    for i in iStr:\n",
    "        if(i not in nStr):\n",
    "            nStr+=i\n",
    "    return nStr\n",
    "\n",
    "str1=\"geekforgeeks\"\n",
    "print(\"String after removing duplicates {}\".format(remDup1(str1)))\n",
    "print(\"String after removing duplicates {}\".format(remDup2(str1)))\n",
    "print(\"String after removing duplicates {}\".format(remDup3(str1)))"
   ]
  },
  {
   "cell_type": "markdown",
   "metadata": {},
   "source": [
    "## Check for special characters"
   ]
  },
  {
   "cell_type": "code",
   "execution_count": 35,
   "metadata": {},
   "outputs": [
    {
     "name": "stdout",
     "output_type": "stream",
     "text": [
      "String C#a!tanya is not accepted\n"
     ]
    }
   ],
   "source": [
    "import re\n",
    "def checkSpecialChar(iString):\n",
    "    \"\"\"Function to check for special charaters in the string\"\"\"\n",
    "    if re.search(\"[@_!#$%^&*()<>?/\\|}{~:]\",iString):\n",
    "        return False\n",
    "    else:\n",
    "        return True\n",
    "\n",
    "str1=\"C#a!tanya\"\n",
    "str2=\"Chaitanya\"\n",
    "str3=\"Chaitanya_Sagar\"\n",
    "if checkSpecialChar(str3):\n",
    "    print(\"String {} is accepted\".format(str1))\n",
    "else:\n",
    "    print(\"String {} is not accepted\".format(str1))"
   ]
  },
  {
   "cell_type": "markdown",
   "metadata": {},
   "source": [
    "## Find Words which are greater than k"
   ]
  },
  {
   "cell_type": "code",
   "execution_count": 37,
   "metadata": {},
   "outputs": [
    {
     "name": "stdout",
     "output_type": "stream",
     "text": [
      "Printing words greater than 3 is ['Function', 'find', 'words', 'which', 'greater', 'than']\n"
     ]
    }
   ],
   "source": [
    "def findWords(iString,k):\n",
    "    \"\"\"Function to find the words which are greater than k\"\"\"\n",
    "    lStr=iString.split(\" \")\n",
    "    ncList=[]\n",
    "    for w in lStr:\n",
    "        if len(w)>k:\n",
    "            ncList.append(w)\n",
    "    return ncList\n",
    "\n",
    "str1=\"Function to find the words which are greater than k\"\n",
    "k=3\n",
    "print(\"Printing words greater than {1} is {0}\".format(findWords(str1,k),k))"
   ]
  },
  {
   "cell_type": "markdown",
   "metadata": {},
   "source": [
    "## Remove ith Char from String"
   ]
  },
  {
   "cell_type": "code",
   "execution_count": 49,
   "metadata": {},
   "outputs": [
    {
     "name": "stdout",
     "output_type": "stream",
     "text": [
      "After removing char Funcion to remove ith Character from String\n",
      "After removing char Funcion to remove ith Character from String\n"
     ]
    }
   ],
   "source": [
    "def remChar(iStr,ipos):\n",
    "    \"\"\"Function to remove ith Character from String\"\"\"\n",
    "    nStr=\"\"\n",
    "    for i in range(len(iStr)):\n",
    "        if i!=ipos:\n",
    "            nStr+=iStr[i]\n",
    "            \n",
    "    return nStr\n",
    "\n",
    "def remChar2(iStr,ipos):\n",
    "    \"\"\"Function to remove ith Character from String\"\"\"\n",
    "    a=iStr[:ipos]\n",
    "    b=iStr[ipos+1:]\n",
    "    return a+b\n",
    "\n",
    "str1=\"Function to remove ith Character from String\"\n",
    "ipos=4\n",
    "print(\"After removing char {}\".format(remChar(str1,ipos)))\n",
    "print(\"After removing char {}\".format(remChar2(str1,ipos)))"
   ]
  },
  {
   "cell_type": "markdown",
   "metadata": {},
   "source": [
    "## Split and Join a string"
   ]
  },
  {
   "cell_type": "code",
   "execution_count": 52,
   "metadata": {},
   "outputs": [
    {
     "name": "stdout",
     "output_type": "stream",
     "text": [
      "String after split ['Function', 'to', 'join', 'the', 'string']\n",
      "String after join Function-to-join-the-string\n"
     ]
    }
   ],
   "source": [
    "def splitStr(iStr):\n",
    "    \"\"\"Function to split the string\"\"\"\n",
    "    return iStr.split(\" \")\n",
    "\n",
    "def joinStr(ilist,delimit):\n",
    "    \"\"\"Function to join the string\"\"\"\n",
    "    return delimit.join(ilist)\n",
    "\n",
    "str1=\"Function to join the string\"\n",
    "print(\"String after split {}\".format(splitStr(str1)))\n",
    "print(\"String after join {}\".format(joinStr(splitStr(str1),\"-\")))"
   ]
  },
  {
   "cell_type": "markdown",
   "metadata": {},
   "source": [
    "## String is binary or not"
   ]
  },
  {
   "cell_type": "code",
   "execution_count": 57,
   "metadata": {},
   "outputs": [
    {
     "name": "stdout",
     "output_type": "stream",
     "text": [
      "String is not a Binary String\n"
     ]
    }
   ],
   "source": [
    "def checkBin(iString):\n",
    "    \"\"\"Function to check if String is binary\"\"\"\n",
    "    binSet={'0','1'}\n",
    "    bStr=set(iString)\n",
    "    \n",
    "    if binSet==bStr or bStr=={'0'} or bStr=={\"1\"}:\n",
    "        return True\n",
    "    else:\n",
    "        return False\n",
    "\n",
    "str1=\"000100110101\"\n",
    "str2=\"0001100200\"\n",
    "if checkBin(str2):\n",
    "    print(\"String is a Binary String\")\n",
    "else:\n",
    "    print(\"String is not a Binary String\")\n",
    "    "
   ]
  },
  {
   "cell_type": "markdown",
   "metadata": {},
   "source": [
    "## Close matches of input string"
   ]
  },
  {
   "cell_type": "code",
   "execution_count": 59,
   "metadata": {},
   "outputs": [
    {
     "name": "stdout",
     "output_type": "stream",
     "text": [
      "Close matches for appe is ['apple', 'ape']\n"
     ]
    }
   ],
   "source": [
    "from difflib import get_close_matches\n",
    "\n",
    "pattern=['ape', 'apple', 'peach', 'puppy'] \n",
    "word1=\"appe\"\n",
    "print(\"Close matches for {0} is {1}\".format(word1,get_close_matches(word1,pattern)))"
   ]
  },
  {
   "cell_type": "markdown",
   "metadata": {},
   "source": [
    "## Find uncommon words from two strings"
   ]
  },
  {
   "cell_type": "code",
   "execution_count": 68,
   "metadata": {},
   "outputs": [
    {
     "name": "stdout",
     "output_type": "stream",
     "text": [
      "Printing uncommon words ['Function', 'to', 'uncommon', 'from', 'strings', 'string']\n",
      "Printing uncommon words [{'to', 'from', 'string', 'uncommon', 'Function', 'strings'}]\n"
     ]
    }
   ],
   "source": [
    "def findUncommon(iStr1,iStr2):\n",
    "    \"\"\"Function to find uncommon words from two strings\"\"\"\n",
    "    wCount={}\n",
    "    for w in iStr1.split():\n",
    "        wCount[w]=wCount.get(w,0)+1\n",
    "    for w in iStr2.split():\n",
    "        wCount[w]=wCount.get(w,0)+1\n",
    "    return [word for word in wCount if wCount[word]==1]\n",
    "\n",
    "def findUncommon2(iStr1,iStr2):\n",
    "    \"\"\"Function to find uncommon words from two strings\"\"\"\n",
    "    wCount=[]\n",
    "    sStr1=set(iStr1.split(\" \"))\n",
    "    sStr2=set(iStr2.split(\" \"))\n",
    "    #wCount.append(sStr1-sStr2)\n",
    "    #wCount.append(sStr2-sStr1)\n",
    "    wCount.append(sStr1.symmetric_difference(sStr2))\n",
    "    return wCount\n",
    "    \n",
    "\n",
    "str1=\"Function to find uncommon words from two strings\"\n",
    "str2=\"find words two string\"\n",
    "\n",
    "print(\"Printing uncommon words {}\".format(findUncommon(str1,str2)))\n",
    "print(\"Printing uncommon words {}\".format(findUncommon2(str1,str2)))"
   ]
  },
  {
   "cell_type": "markdown",
   "metadata": {},
   "source": [
    "## Swap commas and dots in a String"
   ]
  },
  {
   "cell_type": "code",
   "execution_count": 74,
   "metadata": {},
   "outputs": [
    {
     "name": "stdout",
     "output_type": "stream",
     "text": [
      "Printing after swapping 149,2. 256,2. 23,1\n"
     ]
    }
   ],
   "source": [
    "def swapCommasDots(iString):\n",
    "    \"\"\"Function to swap commas and dots in a string\"\"\"\n",
    "    iString=iString.replace(\",\",\";\")\n",
    "    iString=iString.replace(\".\",\",\")\n",
    "    iString=iString.replace(\";\",\".\")\n",
    "    return iString\n",
    "\n",
    "str1=\"149.2, 256.2, 23.1\"\n",
    "print(\"Printing after swapping {}\".format(swapCommasDots(str1)))"
   ]
  },
  {
   "cell_type": "markdown",
   "metadata": {},
   "source": [
    "## Permutation of a given string"
   ]
  },
  {
   "cell_type": "code",
   "execution_count": 77,
   "metadata": {},
   "outputs": [
    {
     "name": "stdout",
     "output_type": "stream",
     "text": [
      "Printing permutations ['ABC', 'ACB', 'BAC', 'BCA', 'CAB', 'CBA']\n"
     ]
    }
   ],
   "source": [
    "from itertools import permutations\n",
    "def getPermutation(iStr):\n",
    "    \"\"\"Function to find the permutation of a given string\"\"\"\n",
    "    permList=permutations(iStr)\n",
    "    pList=[]\n",
    "    for perm in list(permList):\n",
    "        \n",
    "        pList.append(\"\".join(perm))\n",
    "    return pList\n",
    "\n",
    "\n",
    "print(\"Printing permutations {}\".format(getPermutation(\"ABC\")))"
   ]
  },
  {
   "cell_type": "markdown",
   "metadata": {},
   "source": [
    "## Find URL in String"
   ]
  },
  {
   "cell_type": "code",
   "execution_count": 82,
   "metadata": {},
   "outputs": [
    {
     "name": "stdout",
     "output_type": "stream",
     "text": [
      "Extracted URL is ['http://www.github.com']\n"
     ]
    }
   ],
   "source": [
    "def findUrl(iStr):\n",
    "    \"\"\"Function to find URL in string\"\"\"\n",
    "    urlPattern=re.compile('http[s]?://(?:[a-zA-Z]|[0-9]|[$-_@.&+]|[!*\\(\\),]|(?:%[0-9a-fA-F][0-9a-fA-F]))+')\n",
    "    url=re.findall(urlPattern,iStr)\n",
    "    return url\n",
    "\n",
    "str1=\"my url here is http://www.github.com\"    \n",
    "print(\"Extracted URL is {}\".format(findUrl(str1)))"
   ]
  },
  {
   "cell_type": "markdown",
   "metadata": {},
   "source": [
    "## Execute a String of Code"
   ]
  },
  {
   "cell_type": "code",
   "execution_count": 88,
   "metadata": {},
   "outputs": [],
   "source": [
    "def codeExec():\n",
    "    \"\"\"Function to execute a string of code\"\"\"\n",
    "    strOfCode=\"\"\"\n",
    "def strCode():\n",
    "    print(\"This is code after execution\")\n",
    "    \"\"\"\n",
    "    exec(strOfCode)\n",
    "\n",
    "codeExec()"
   ]
  },
  {
   "cell_type": "markdown",
   "metadata": {},
   "source": [
    "## Slice and Rotate a String"
   ]
  },
  {
   "cell_type": "code",
   "execution_count": 91,
   "metadata": {},
   "outputs": [
    {
     "name": "stdout",
     "output_type": "stream",
     "text": [
      "Left Rotation: tanySagarChai\n",
      "Right Rotation: agarChaitanyS\n"
     ]
    }
   ],
   "source": [
    "def sliceRotate(iStr,num):\n",
    "    \"\"\"Function to slice and rotate a string\"\"\"\n",
    "    lFirst=iStr[:num]\n",
    "    lLast=iStr[num:]\n",
    "    rFirst=iStr[:len(iStr)-num]\n",
    "    rLast=iStr[len(iStr)-num:]\n",
    "    print(\"Left Rotation: {}\".format(lLast+lFirst))\n",
    "    print(\"Right Rotation: {}\".format(rLast+rFirst))\n",
    "\n",
    "str1=\"ChaitanySagar\"\n",
    "sliceRotate(str1,4)"
   ]
  },
  {
   "cell_type": "markdown",
   "metadata": {},
   "source": [
    "## Find Duplicate characters in String"
   ]
  },
  {
   "cell_type": "code",
   "execution_count": 110,
   "metadata": {},
   "outputs": [
    {
     "name": "stdout",
     "output_type": "stream",
     "text": [
      "Duplicate characters in String {'t', 'r', 'i'}\n"
     ]
    }
   ],
   "source": [
    "def duplicateChar(iString):\n",
    "    \"\"\"Function to find duplicate characters in String\"\"\"\n",
    "    sString=set({})\n",
    "    sList=set({})\n",
    "    for c in range(len(iString)):\n",
    "        \n",
    "        if iString[c] in sString:\n",
    "            sList.add(iString[c])\n",
    "            \n",
    "        else:\n",
    "            sString.add(iString[c])\n",
    "    return sList\n",
    "\n",
    "str1=\"Duplicate Stringstri\"\n",
    "print(\"Duplicate characters in String {}\".format(duplicateChar(str1)))"
   ]
  },
  {
   "cell_type": "code",
   "execution_count": null,
   "metadata": {},
   "outputs": [],
   "source": []
  }
 ],
 "metadata": {
  "kernelspec": {
   "display_name": "Python 3",
   "language": "python",
   "name": "python3"
  },
  "language_info": {
   "codemirror_mode": {
    "name": "ipython",
    "version": 3
   },
   "file_extension": ".py",
   "mimetype": "text/x-python",
   "name": "python",
   "nbconvert_exporter": "python",
   "pygments_lexer": "ipython3",
   "version": "3.7.6"
  }
 },
 "nbformat": 4,
 "nbformat_minor": 4
}
