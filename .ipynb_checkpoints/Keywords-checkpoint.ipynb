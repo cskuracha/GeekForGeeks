{
 "cells": [
  {
   "cell_type": "markdown",
   "metadata": {},
   "source": [
    "## Keywords Notes"
   ]
  },
  {
   "cell_type": "markdown",
   "metadata": {},
   "source": [
    "<p>Below is simple program to return the keywords</p>"
   ]
  },
  {
   "cell_type": "code",
   "execution_count": 2,
   "metadata": {
    "scrolled": false
   },
   "outputs": [
    {
     "name": "stdout",
     "output_type": "stream",
     "text": [
      "['False', 'None', 'True', 'and', 'as', 'assert', 'async', 'await', 'break', 'class', 'continue', 'def', 'del', 'elif', 'else', 'except', 'finally', 'for', 'from', 'global', 'if', 'import', 'in', 'is', 'lambda', 'nonlocal', 'not', 'or', 'pass', 'raise', 'return', 'try', 'while', 'with', 'yield']\n"
     ]
    }
   ],
   "source": [
    "import keyword as kw\n",
    "print(kw.kwlist)"
   ]
  },
  {
   "cell_type": "markdown",
   "metadata": {},
   "source": [
    "### List of Keywords \n",
    "\n",
    "        1. True: This keyword is used to represent a boolean true. If a statement is true, “True” is printed. \n",
    "        2. False: This keyword is used to represent a boolean false. If a statement is false, “False” is printed.    \n",
    "        3. None: his is a special constant used to denote a null value or a void. Its important to remember, 0, any empty container (e.g empty list) do not compute to None. It is an object of its own datatype – NoneType. It is not possible to create multiple None objects and can assign it to variables\n",
    "        4. and : This a logical operator in python. “and” Return the first false value .if not found return last.\n",
    "        5. or : This a logical operator in python. “or” Return the first True value.if not found return last.\n",
    "        6. not : This logical operator inverts the truth value.\n",
    "        7. Assert: This function is used for debugging purposes. Usually used to check the correctness of code. If a statement evaluated to true, nothing happens, but when it is false, “AssertionError” is raised . One can also print a message with the error, separated by a comma.\n",
    "        8. break : “break” is used to control the flow of loop. The statement is used to break out of loop and passes the control to the statement following immediately after loop.\n",
    "        9. continue : “continue” is also used to control the flow of code. The keyword skips the current iteration of the loop, but does not end the loop.\n",
    "        10. class : This keyword is used to declare user defined classes.\n",
    "        11. def : This keyword is used to declare user defined functions\n",
    "        12. if : It is a control statement for decision making. Truth expression forces control to go in “if” statement block.\n",
    "        13. else : It is a control statement for decision making. False expression forces control to go in “else” statement block.\n",
    "        14. elif : It is a control statement for decision making. It is short for “else if”\n",
    "        15. del : del is used to delete a reference to an object. Any variable or list value can be deleted using del.\n",
    "        16. try: used for excecptional handling, used to catch errors in the code using the keyword except. Code in try block is checked, if there is any type of error, except block will be executed\n",
    "        17. except: This works together with try block to catch exception\n",
    "        18. raise: Used for exceptional handling to explictly raise exception\n",
    "        19. finally: No matter what is result of the \"try\" block, block termed \"finally\" is always executed.\n",
    "        20. for: This keyword is used to control flow and for looping\n",
    "        21. while: similar to for loop, used to control flow and for looping\n",
    "        22. pass: A null statement in python. Nothing happens when this is executed. This is used to prevent Indentation error and used as a placeholder\n",
    "        23. import: Used to include particular module in the program\n",
    "        24. from: Used with import and used to import particular functionality from the module\n",
    "        25. as: Used to create an alias name for the imported module. Ex: import math as mymath\n",
    "        26. lambda: Used to make inline returning functions with no statements allowed internally\n",
    "        27. return: Used to return from the function\n",
    "        28. yield: Used like a return statement but is used to return a generator\n",
    "        29. with: Used to wrap the execution of block of code within methods defined by context manager. Not used much in day to day activities\n",
    "        30. in: Used to check if a container contains a value. Also, used to loop through the container\n",
    "        31. is: Used to test object identity i.e., to check if both the objects take same memory location or not\n",
    "        32. global: Used to define a variable inside the function to be of global scope\n",
    "        33. non-local: Works similar to global, but rather than global, this keyword declares a variable to point to variable of outside enclosing function, incase of nested functions.\n",
    "        \n"
   ]
  },
  {
   "cell_type": "markdown",
   "metadata": {},
   "source": [
    "### Programs for Understanding"
   ]
  },
  {
   "cell_type": "markdown",
   "metadata": {},
   "source": [
    "<p> True, False & None</p>"
   ]
  },
  {
   "cell_type": "code",
   "execution_count": 9,
   "metadata": {},
   "outputs": [
    {
     "name": "stdout",
     "output_type": "stream",
     "text": [
      "True\n",
      "True\n",
      "3\n",
      "1\n",
      "False\n"
     ]
    }
   ],
   "source": [
    "print(True==1)\n",
    "print(False==0)\n",
    "print(True+True+True)\n",
    "print(True+False+False)\n",
    "print(None==0)"
   ]
  },
  {
   "cell_type": "markdown",
   "metadata": {},
   "source": [
    "<p> And , or & not </p>"
   ]
  },
  {
   "cell_type": "code",
   "execution_count": 12,
   "metadata": {},
   "outputs": [
    {
     "name": "stdout",
     "output_type": "stream",
     "text": [
      "True\n",
      "True\n",
      "False\n",
      "True\n"
     ]
    }
   ],
   "source": [
    "x=None\n",
    "y=None\n",
    "print(x==y)\n",
    "print(True or False)\n",
    "print(True and False)\n",
    "print(not False)"
   ]
  },
  {
   "cell_type": "markdown",
   "metadata": {},
   "source": [
    "<p> Del & Assert functionality </p>"
   ]
  },
  {
   "cell_type": "code",
   "execution_count": 14,
   "metadata": {},
   "outputs": [
    {
     "name": "stdout",
     "output_type": "stream",
     "text": [
      "This is the value before deleting [1, 2, 3]\n",
      "List after deleting the value [1, 3]\n"
     ]
    },
    {
     "ename": "AssertionError",
     "evalue": "5 is not smaller than 3",
     "output_type": "error",
     "traceback": [
      "\u001b[1;31m---------------------------------------------------------------------------\u001b[0m",
      "\u001b[1;31mAssertionError\u001b[0m                            Traceback (most recent call last)",
      "\u001b[1;32m<ipython-input-14-2f0c7532dc64>\u001b[0m in \u001b[0;36m<module>\u001b[1;34m\u001b[0m\n\u001b[0;32m      7\u001b[0m \u001b[0mprint\u001b[0m\u001b[1;33m(\u001b[0m\u001b[1;34m\"List after deleting the value\"\u001b[0m\u001b[1;33m,\u001b[0m\u001b[0ma\u001b[0m \u001b[1;33m)\u001b[0m\u001b[1;33m\u001b[0m\u001b[1;33m\u001b[0m\u001b[0m\n\u001b[0;32m      8\u001b[0m \u001b[1;33m\u001b[0m\u001b[0m\n\u001b[1;32m----> 9\u001b[1;33m \u001b[1;32massert\u001b[0m \u001b[1;36m5\u001b[0m\u001b[1;33m<\u001b[0m\u001b[1;36m3\u001b[0m\u001b[1;33m,\u001b[0m \u001b[1;34m\"5 is not smaller than 3\"\u001b[0m\u001b[1;33m\u001b[0m\u001b[1;33m\u001b[0m\u001b[0m\n\u001b[0m",
      "\u001b[1;31mAssertionError\u001b[0m: 5 is not smaller than 3"
     ]
    }
   ],
   "source": [
    "# initializing the list\n",
    "a=[1,2,3]\n",
    "\n",
    "print(\"This is the value before deleting\",a)\n",
    "del a[1]\n",
    "\n",
    "print(\"List after deleting the value\",a )\n",
    "\n",
    "assert 5<3, \"5 is not smaller than 3\""
   ]
  },
  {
   "cell_type": "markdown",
   "metadata": {},
   "source": [
    "<p> in & is: </p>"
   ]
  },
  {
   "cell_type": "code",
   "execution_count": 17,
   "metadata": {},
   "outputs": [
    {
     "name": "stdout",
     "output_type": "stream",
     "text": [
      "s is part of Sagar\n",
      "C h a i t a n y a \r\n",
      "True\n",
      "False\n"
     ]
    }
   ],
   "source": [
    "if 's' in 'sagar':\n",
    "    print(\"s is part of Sagar\")\n",
    "else: print(\"s is not part of Sagar\")\n",
    "\n",
    "for i in 'Chaitanya': \n",
    "    print(i,end=\" \")\n",
    "print(\"\\r\")\n",
    "print(\" \" is \" \")\n",
    "print({} is {})"
   ]
  },
  {
   "cell_type": "markdown",
   "metadata": {},
   "source": [
    "<p> Global & Non-local: </p>"
   ]
  },
  {
   "cell_type": "code",
   "execution_count": 25,
   "metadata": {},
   "outputs": [
    {
     "name": "stdout",
     "output_type": "stream",
     "text": [
      "10\n",
      "5\n"
     ]
    }
   ],
   "source": [
    "a=10\n",
    "\n",
    "def read():\n",
    "    print(a)\n",
    "\n",
    "def mod1():\n",
    "    global a\n",
    "    a=5\n",
    "\n",
    "def mod2():\n",
    "    a=15\n",
    "\n",
    "    read()\n",
    "    mod1()\n",
    "    mod2()\n",
    "    read()\n",
    "#print(\"Value of using nonlocal is : \",ends=\"\")\n",
    "def outer():\n",
    "    a=5\n",
    "    def inner():\n",
    "        nonlocal a\n",
    "        a=10\n",
    "    inner()\n",
    "    print(a)\n",
    "outer()\n",
    "\n",
    "#print(\"Value of a without using nonlocal is :\",ends=\"\")\n",
    "def outer():\n",
    "    a=5\n",
    "    def inner():\n",
    "        a=10\n",
    "    inner()\n",
    "    print(a)\n",
    "\n",
    "outer()"
   ]
  },
  {
   "cell_type": "code",
   "execution_count": null,
   "metadata": {},
   "outputs": [],
   "source": []
  }
 ],
 "metadata": {
  "kernelspec": {
   "display_name": "Python 3",
   "language": "python",
   "name": "python3"
  },
  "language_info": {
   "codemirror_mode": {
    "name": "ipython",
    "version": 3
   },
   "file_extension": ".py",
   "mimetype": "text/x-python",
   "name": "python",
   "nbconvert_exporter": "python",
   "pygments_lexer": "ipython3",
   "version": "3.7.4"
  }
 },
 "nbformat": 4,
 "nbformat_minor": 2
}
