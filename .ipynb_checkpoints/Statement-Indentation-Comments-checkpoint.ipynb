{
 "cells": [
  {
   "cell_type": "markdown",
   "metadata": {},
   "source": [
    "## Statements, Indentation & Comment"
   ]
  },
  {
   "cell_type": "markdown",
   "metadata": {},
   "source": [
    "### Statements"
   ]
  },
  {
   "cell_type": "markdown",
   "metadata": {},
   "source": [
    "Instructions written in the source code for execution are called Statements. There are different types of statements in the Python programming language like Assignment Statement, Condition Statement, Looping Statements etc. These help the user to get the required output. <br><br>\n",
    "Statements in python can be extended to one or more lines using (), {},[],;,\\. When the programmer needs to do long calculations and connot fit his statements into single line, one can make use of these characters<br><br>\n",
    "    "
   ]
  },
  {
   "cell_type": "markdown",
   "metadata": {},
   "source": [
    "### Indentations"
   ]
  },
  {
   "cell_type": "markdown",
   "metadata": {},
   "source": [
    "A block is a combination of all these statements. Block can be regarded as the grouping of statements for the specific purpose. Most of the programming languages like C, C++, Java use braces {} to define a block of code. One of the distinctive features of Python is its use of indentation to highlight the blocks of code. Whitespace is used for indentation in Python. All statements with the same distance to the right belong to the same block of code. If a block has to be more deeply nested, it is simply indented further to the right"
   ]
  },
  {
   "cell_type": "markdown",
   "metadata": {},
   "source": [
    "### Comments"
   ]
  },
  {
   "cell_type": "markdown",
   "metadata": {},
   "source": [
    "Comments are the useful information that the developers provide to make the reader understand the source code. It explains the logic or a part of it used in the code. It improves the readability of the whole program.<br><br>\n",
    "<u> Single line Comments:</u><br>\n",
    "Python single line comment starts with # with no whitespaces and lasts till the end of the line. Useful for supplying short explanations for variables, function declarations and expressions<br><br>\n",
    "<u> Multi line Comments:</u><br>\n",
    "Piece of text enclosed in a delimiter (\"\"\") on each end of the comment. They are useful when the comments or paragraphs does not fit into one line"
   ]
  },
  {
   "cell_type": "markdown",
   "metadata": {},
   "source": [
    "## Practice"
   ]
  },
  {
   "cell_type": "markdown",
   "metadata": {},
   "source": [
    "### Example 1"
   ]
  },
  {
   "cell_type": "code",
   "execution_count": 1,
   "metadata": {},
   "outputs": [
    {
     "name": "stdout",
     "output_type": "stream",
     "text": [
      "Logging on to geeksforgeeks...\n",
      "All set !\n"
     ]
    }
   ],
   "source": [
    "# Python program showing \n",
    "# indentation \n",
    "\n",
    "site = 'gfg'\n",
    "\n",
    "if site == 'gfg': \n",
    "\tprint('Logging on to geeksforgeeks...') \n",
    "else: \n",
    "\tprint('retype the URL.') \n",
    "print('All set !') \n"
   ]
  },
  {
   "cell_type": "markdown",
   "metadata": {},
   "source": [
    "### Example 2"
   ]
  },
  {
   "cell_type": "code",
   "execution_count": 2,
   "metadata": {},
   "outputs": [
    {
     "name": "stdout",
     "output_type": "stream",
     "text": [
      "1\n",
      "2\n",
      "3\n",
      "4\n",
      "5\n"
     ]
    }
   ],
   "source": [
    "j = 1\n",
    "while(j<= 5): \n",
    "\tprint(j) \n",
    "\tj = j + 1\n"
   ]
  },
  {
   "cell_type": "markdown",
   "metadata": {},
   "source": [
    "### Example 3"
   ]
  },
  {
   "cell_type": "code",
   "execution_count": 3,
   "metadata": {},
   "outputs": [
    {
     "name": "stdout",
     "output_type": "stream",
     "text": [
      "4\n"
     ]
    }
   ],
   "source": [
    "a, b = 1, 3 # Declaring two integers \n",
    "sum = a + b # adding two integers \n",
    "print(sum) # displaying the output \n"
   ]
  },
  {
   "cell_type": "markdown",
   "metadata": {},
   "source": [
    "### Example 4"
   ]
  },
  {
   "cell_type": "code",
   "execution_count": 4,
   "metadata": {},
   "outputs": [
    {
     "name": "stdout",
     "output_type": "stream",
     "text": [
      "GeeksForGeeks\n"
     ]
    }
   ],
   "source": [
    "\"\"\" \n",
    "This would be a multiline comment in Python that \n",
    "spans several lines and describes geeksforgeeks. \n",
    "A Computer Science portal for geeks. It contains \n",
    "well written, well thought \n",
    "and well-explained computer science \n",
    "and programming articles, \n",
    "quizzes and more. \n",
    "… \n",
    "\"\"\"\n",
    "print(\"GeeksForGeeks\") \n"
   ]
  },
  {
   "cell_type": "code",
   "execution_count": null,
   "metadata": {},
   "outputs": [],
   "source": []
  }
 ],
 "metadata": {
  "kernelspec": {
   "display_name": "Python 3",
   "language": "python",
   "name": "python3"
  },
  "language_info": {
   "codemirror_mode": {
    "name": "ipython",
    "version": 3
   },
   "file_extension": ".py",
   "mimetype": "text/x-python",
   "name": "python",
   "nbconvert_exporter": "python",
   "pygments_lexer": "ipython3",
   "version": "3.7.4"
  }
 },
 "nbformat": 4,
 "nbformat_minor": 2
}
