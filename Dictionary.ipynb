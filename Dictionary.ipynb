{
 "cells": [
  {
   "cell_type": "markdown",
   "metadata": {},
   "source": [
    "# Dictionary\n",
    "\n",
    "Python | Sort Python Dictionaries by Key or Value\n",
    "\n",
    "Handling missing keys in Python dictionaries\n",
    "\n",
    "Python dictionary with keys having multiple inputs\n",
    "\n",
    "Python program to find the sum of all items in a dictionary\n",
    "\n",
    "Python | Ways to remove a key from dictionary\n",
    "\n",
    "Ways to sort list of dictionaries by values in Python – Using itemgetter\n",
    "\n",
    "Ways to sort list of dictionaries by values in Python – Using lambda function\n",
    "\n",
    "Python | Merging two Dictionaries\n",
    "\n",
    "Program to create grade calculator in Python\n",
    "\n",
    "Python | Check order of character in string using OrderedDict( )\n",
    "\n",
    "Python | Find common elements in three sorted arrays by dictionary intersection\n",
    "\n",
    "Dictionary and counter in Python to find winner of election\n",
    "\n",
    "Find all duplicate characters in string\n",
    "\n",
    "Print anagrams together in Python using List and Dictionary\n",
    "\n",
    "K’th Non-repeating Character in Python using List Comprehension and OrderedDict\n",
    "\n",
    "Check if binary representations of two numbers are anagram\n",
    "\n",
    "Python Counter to find the size of largest subset of anagram words\n",
    "\n",
    "Python | Remove all duplicates words from a given sentence\n",
    "\n",
    "Python Dictionary to find mirror characters in a string\n",
    "\n",
    "Counting the frequencies in a list using dictionary in Python\n",
    "\n",
    "Python | Convert a list of Tuples into Dictionary\n",
    "\n",
    "Python counter and dictionary intersection example (Make a string using deletion and rearrangement)\n",
    "\n",
    "Python dictionary, set and counter to check if frequencies can become same\n",
    "\n",
    "Scraping And Finding Ordered Words In A Dictionary using Python\n",
    "\n",
    "Possible Words using given characters in Python"
   ]
  },
  {
   "cell_type": "markdown",
   "metadata": {},
   "source": [
    "## Sort Dictionaries by key / Value"
   ]
  },
  {
   "cell_type": "code",
   "execution_count": 11,
   "metadata": {},
   "outputs": [
    {
     "name": "stdout",
     "output_type": "stream",
     "text": [
      "Dictionary keys [(1, 26), (2, 3), (3, 14), (4, 8), (5, 85), (6, 19), (7, 78)]\n",
      "Dictionary keys [(2, 3), (4, 8), (3, 14), (6, 19), (1, 26), (7, 78), (5, 85)]\n"
     ]
    }
   ],
   "source": [
    "# https://www.geeksforgeeks.org/python-sort-python-dictionaries-by-key-or-value/\n",
    "def dictionary(dict1):\n",
    "    \"\"\"Function to capturing dictionary\"\"\"\n",
    "   \n",
    "    keyList=[]\n",
    "    for i in dict1.keys():\n",
    "        keyList.append(i)\n",
    "    keyValList=[]\n",
    "    for i in sorted(dict1):\n",
    "        keyValList.append((i,dict1[i]))\n",
    "    \n",
    "    #return keyList\n",
    "    #return dict1.keys()\n",
    "    return keyValList\n",
    "\n",
    "def dictSortVal(dict1):\n",
    "    \"\"\"Function to sort dictionary by value\"\"\"\n",
    "    return sorted(dict1.items(),key=lambda kv: (kv[1],kv[0]))\n",
    "\n",
    "dict1={}\n",
    "dict1[1]=26\n",
    "dict1[4]=8\n",
    "dict1[2]=3\n",
    "dict1[7]=78\n",
    "dict1[3]=14\n",
    "dict1[5]=85\n",
    "dict1[6]=19\n",
    "\n",
    "print(\"Dictionary keys {}\".format(dictionary(dict1)))\n",
    "print(\"Dictionary keys {}\".format(dictSortVal(dict1)))\n",
    "\n",
    "    "
   ]
  },
  {
   "cell_type": "markdown",
   "metadata": {},
   "source": [
    "## Missing keys in Dictionary"
   ]
  },
  {
   "cell_type": "code",
   "execution_count": 16,
   "metadata": {},
   "outputs": [
    {
     "name": "stdout",
     "output_type": "stream",
     "text": [
      "Value of None\n",
      "Value of name in dict3 is Chaitanya\n",
      "Value of degree in dict3 is Key Not found\n"
     ]
    }
   ],
   "source": [
    "dict2={}\n",
    "dict2['a']=1\n",
    "dict2['b']=2\n",
    "print(\"Value of {}\".format(dict2.get('c')))\n",
    "\n",
    "import collections\n",
    "dict3=collections.defaultdict(lambda: \"Key Not found\")\n",
    "dict3[\"name\"]=\"Chaitanya\"\n",
    "dict3[\"age\"]=35\n",
    "\n",
    "print(\"Value of name in dict3 is {}\".format(dict3[\"name\"]))\n",
    "print(\"Value of degree in dict3 is {}\".format(dict3[\"degree\"]))\n",
    "\n"
   ]
  },
  {
   "cell_type": "markdown",
   "metadata": {},
   "source": [
    "## Dict with keys having multiple inputs"
   ]
  },
  {
   "cell_type": "code",
   "execution_count": 3,
   "metadata": {},
   "outputs": [
    {
     "name": "stdout",
     "output_type": "stream",
     "text": [
      "Dictionary 4 is {(10, 20, 30): 0, (5, 2, 4): 3}\n",
      "{('17.5169', '78.3428'): 'Miyapur', ('27.2038', '77.5011'): 'Amalapuram'}\n",
      "Latitude: ['17.5169', '27.2038']\n",
      "Longitude: ['78.3428', '77.5011']\n",
      "Place: ['Miyapur', 'Amalapuram']\n"
     ]
    }
   ],
   "source": [
    "dict4={}\n",
    "x,y,z=10,20,30\n",
    "dict4[x,y,z]=x+y-z\n",
    "\n",
    "x,y,z=5,2,4\n",
    "dict4[x,y,z]=x+y-z\n",
    "\n",
    "print(\"Dictionary 4 is {}\".format(dict4))\n",
    "\n",
    "dict5={(\"17.5169\",\"78.3428\"):\"Miyapur\",(\"27.2038\",\"77.5011\"):\"Amalapuram\"}\n",
    "print(dict5)\n",
    "lati=[]\n",
    "longi=[]\n",
    "place=[]\n",
    "for i in dict5:\n",
    "    lati.append(i[0])\n",
    "    longi.append(i[1])\n",
    "    place.append(dict5[i[0],i[1]])\n",
    "print(\"Latitude: {}\".format(lati))\n",
    "print(\"Longitude: {}\".format(longi))\n",
    "print(\"Place: {}\".format(place))"
   ]
  },
  {
   "cell_type": "markdown",
   "metadata": {},
   "source": [
    "## Sum of all elements in Dict"
   ]
  },
  {
   "cell_type": "code",
   "execution_count": 5,
   "metadata": {},
   "outputs": [
    {
     "name": "stdout",
     "output_type": "stream",
     "text": [
      "Sum of Elements : 90\n",
      "Sum of Elements : 90\n"
     ]
    }
   ],
   "source": [
    "def sumEleDict(iDict):\n",
    "    \"\"\"Function to return sum of elements in dictionary\"\"\"\n",
    "    sumEle=0\n",
    "    for ele in iDict:\n",
    "        sumEle+=iDict[ele]\n",
    "    return sumEle\n",
    "\n",
    "def sumEleDict2(iDict):\n",
    "    \"\"\"Function to return sum of elements in dictionary\"\"\"\n",
    "    sumEle=0\n",
    "    for ele in iDict.values():\n",
    "        sumEle+=ele\n",
    "    return sumEle\n",
    "\n",
    "dict6={\"a\":26,\"b\":27,\"c\":10,\"d\":12,\"e\":15}\n",
    "print(\"Sum of Elements : {}\".format(sumEleDict(dict6)))\n",
    "print(\"Sum of Elements : {}\".format(sumEleDict2(dict6)))"
   ]
  },
  {
   "cell_type": "markdown",
   "metadata": {},
   "source": [
    "## Remove a Key from Dict"
   ]
  },
  {
   "cell_type": "code",
   "execution_count": 12,
   "metadata": {},
   "outputs": [
    {
     "name": "stdout",
     "output_type": "stream",
     "text": [
      "Dictionary after remove {'Chaitanya': 35, 'Sagar': 35, 'Sujani': 30, 'Irshita': 2, 'Rishi': 1}\n",
      "Deleted value: 35\n",
      "Dictionary after remove {'Chaitanya': 35, 'Sagar': 35, 'Sujani': 30, 'Irshita': 2, 'Rishi': 1}\n",
      "Dictionary after remove {'Chaitanya': 35, 'Sagar': 35, 'Sujani': 30, 'Irshita': 2, 'Rishi': 1}\n"
     ]
    }
   ],
   "source": [
    "def remKey(iDict,keyRem):\n",
    "    \"\"\"Function to remove a specific key from dictionary\"\"\"\n",
    "    if keyRem in iDict:\n",
    "        del iDict[keyRem]\n",
    "    return iDict\n",
    "\n",
    "def remKey2(iDict,keyRem):\n",
    "    \"\"\"Function to remove a specific key from dictionary\"\"\"\n",
    "    popVal=iDict.pop(keyRem)\n",
    "    print(\"Deleted value: {}\".format(popVal))\n",
    "    return iDict\n",
    "\n",
    "def remKey3(iDict,keyRem):\n",
    "    \"\"\"Function to remove a specific key from dictionary\"\"\"\n",
    "    nDict={k:v for k,v in iDict.items() if k !=keyRem}\n",
    "    return nDict\n",
    "\n",
    "dict7={\"Chaitanya\":35,\"Sagar\":35,\"Krishna\":35,\"Sujani\":30,\"Irshita\":2,\"Rishi\":1}\n",
    "keyRem=\"Krishna\"\n",
    "print(\"Dictionary after remove {}\".format(remKey(dict7,keyRem)))\n",
    "\n",
    "dict7={\"Chaitanya\":35,\"Sagar\":35,\"Krishna\":35,\"Sujani\":30,\"Irshita\":2,\"Rishi\":1}\n",
    "keyRem=\"Krishna\"\n",
    "print(\"Dictionary after remove {}\".format(remKey2(dict7,keyRem)))\n",
    "\n",
    "dict7={\"Chaitanya\":35,\"Sagar\":35,\"Krishna\":35,\"Sujani\":30,\"Irshita\":2,\"Rishi\":1}\n",
    "keyRem=\"Krishna\"\n",
    "print(\"Dictionary after remove {}\".format(remKey3(dict7,keyRem)))\n"
   ]
  },
  {
   "cell_type": "markdown",
   "metadata": {},
   "source": [
    "## Sort list of Dictionary"
   ]
  },
  {
   "cell_type": "code",
   "execution_count": 17,
   "metadata": {},
   "outputs": [
    {
     "name": "stdout",
     "output_type": "stream",
     "text": [
      "Sorted List of Dictionary is [{'name': 'Sujani', 'age': 30}, {'name': 'Sagar', 'age': 35}, {'name': 'Chaitanya', 'age': 35}]\n",
      "Sorted list of dictionary with age and name: [{'name': 'Sujani', 'age': 30}, {'name': 'Chaitanya', 'age': 35}, {'name': 'Sagar', 'age': 35}]\n"
     ]
    }
   ],
   "source": [
    "from operator import itemgetter\n",
    "list1=[{\"name\":\"Sagar\",\"age\":35},{\"name\":\"Chaitanya\",\"age\":35},{\"name\":\"Sujani\",\"age\":30}]\n",
    "print(\"Sorted List of Dictionary is {}\".format(sorted(list1,key=itemgetter(\"age\"))))\n",
    "print(\"Sorted list of dictionary with age and name: {}\".format(sorted(list1,key=itemgetter(\"age\",\"name\"))))"
   ]
  },
  {
   "cell_type": "markdown",
   "metadata": {},
   "source": [
    "## Sort list of Dictionary by Values"
   ]
  },
  {
   "cell_type": "code",
   "execution_count": 21,
   "metadata": {},
   "outputs": [
    {
     "name": "stdout",
     "output_type": "stream",
     "text": [
      "Sorted list of dictionary by values is [{'name': 'Rishi', 'age': 1}, {'name': 'Irshita', 'age': 2}, {'name': 'Sujani', 'age': 30}, {'name': 'Chaitanya', 'age': 35}, {'name': 'Vijaya Lakshmi', 'age': 64}, {'name': 'Ratna Sagar', 'age': 65}]\n",
      "Sorted list of dictionary by values is [{'name': 'Rishi', 'age': 1}, {'name': 'Irshita', 'age': 2}, {'name': 'Sujani', 'age': 30}, {'name': 'Chaitanya', 'age': 35}, {'name': 'Vijaya Lakshmi', 'age': 64}, {'name': 'Ratna Sagar', 'age': 65}]\n"
     ]
    }
   ],
   "source": [
    "list1=[{\"name\":\"Ratna Sagar\",\"age\":65},{\"name\":\"Vijaya Lakshmi\",\"age\":64},{\"name\":\"Chaitanya\",\"age\":35},{\"name\":\"Sujani\",\"age\":30},{\"name\":\"Irshita\",\"age\":2},{\"name\":\"Rishi\",\"age\":1}]\n",
    "print(\"Sorted list of dictionary by values is {}\".format(sorted(list1, key=lambda i:i[\"age\"])))\n",
    "print(\"Sorted list of dictionary by values is {}\".format(sorted(list1, key=lambda i: (i['age'],i['name']))))"
   ]
  },
  {
   "cell_type": "markdown",
   "metadata": {},
   "source": [
    "## Merging two dictionaries"
   ]
  },
  {
   "cell_type": "code",
   "execution_count": 23,
   "metadata": {},
   "outputs": [
    {
     "name": "stdout",
     "output_type": "stream",
     "text": [
      "Dictionary after merging: {'e': 5, 'f': 6, 'g': 7, 'h': 8, 'a': 1, 'b': 2, 'c': 3, 'd': 4}\n"
     ]
    }
   ],
   "source": [
    "def mergingDict(iDict1,iDict2):\n",
    "    \"\"\"Function to merge two dictionaries\"\"\"\n",
    "    return iDict2.update(iDict1)\n",
    "\n",
    "dict8={\"a\":1,\"b\":2,\"c\":3,\"d\":4}\n",
    "dict9={\"e\":5,\"f\":6,\"g\":7,\"h\":8}\n",
    "print(\"Dictionary after merging: {1}\".format(mergingDict(dict8,dict9),dict9))"
   ]
  },
  {
   "cell_type": "markdown",
   "metadata": {},
   "source": [
    "## Check order of string"
   ]
  },
  {
   "cell_type": "code",
   "execution_count": 26,
   "metadata": {},
   "outputs": [
    {
     "name": "stdout",
     "output_type": "stream",
     "text": [
      "Is pattern matching ? False\n"
     ]
    }
   ],
   "source": [
    "from collections import OrderedDict\n",
    "def checkOrder(iStr,pattern):\n",
    "    \"\"\"Function to check order of string\"\"\"\n",
    "    iDict=OrderedDict.fromkeys(iStr)\n",
    "    pLen=0\n",
    "    for k,v in iDict.items():\n",
    "        if k==pattern[pLen]:\n",
    "            pLen+=1\n",
    "        if pLen==len(pattern):\n",
    "            return True\n",
    "    return False\n",
    "\n",
    "str1=\"engineering rock\"\n",
    "ptr=\"egr\"\n",
    "ptr1=\"gsr\"\n",
    "\n",
    "print(\"Is pattern matching ? {}\".format(checkOrder(str1,ptr1)))"
   ]
  },
  {
   "cell_type": "markdown",
   "metadata": {},
   "source": [
    "## Common elements in three sorted arrays"
   ]
  },
  {
   "cell_type": "code",
   "execution_count": 32,
   "metadata": {},
   "outputs": [
    {
     "name": "stdout",
     "output_type": "stream",
     "text": [
      "Common Elements: [80, 20]\n"
     ]
    }
   ],
   "source": [
    "from collections import Counter\n",
    "\n",
    "def findCommonEle(iList1,iList2,iList3):\n",
    "    \"\"\"Function to return common elements in three sorted arrays\"\"\"\n",
    "    iDict1=Counter(iList1)\n",
    "    iDict2=Counter(iList2)\n",
    "    iDict3=Counter(iList3)\n",
    "    cDict=dict(iDict1.items() & iDict2.items() & iDict3.items())\n",
    "    cList=[]\n",
    "    \n",
    "    for k,v in cDict.items():\n",
    "        cList.append(k)\n",
    "    return cList\n",
    "\n",
    "list1=[1, 5, 10, 20, 40, 80] \n",
    "list2=[6, 7, 20, 80, 100]\n",
    "list3=[3, 4, 15, 20, 30, 70, 80, 120] \n",
    "\n",
    "print(\"Common Elements: {}\".format(findCommonEle(list1,list2,list3)))"
   ]
  },
  {
   "cell_type": "code",
   "execution_count": null,
   "metadata": {},
   "outputs": [],
   "source": []
  }
 ],
 "metadata": {
  "kernelspec": {
   "display_name": "Python 3",
   "language": "python",
   "name": "python3"
  },
  "language_info": {
   "codemirror_mode": {
    "name": "ipython",
    "version": 3
   },
   "file_extension": ".py",
   "mimetype": "text/x-python",
   "name": "python",
   "nbconvert_exporter": "python",
   "pygments_lexer": "ipython3",
   "version": "3.7.6"
  }
 },
 "nbformat": 4,
 "nbformat_minor": 4
}
