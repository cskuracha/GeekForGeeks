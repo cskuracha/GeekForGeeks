{
 "cells": [
  {
   "cell_type": "markdown",
   "metadata": {},
   "source": [
    "# Dictionary\n",
    "\n",
    "Python | Sort Python Dictionaries by Key or Value\n",
    "\n",
    "Handling missing keys in Python dictionaries\n",
    "\n",
    "Python dictionary with keys having multiple inputs\n",
    "\n",
    "Python program to find the sum of all items in a dictionary\n",
    "\n",
    "Python | Ways to remove a key from dictionary\n",
    "\n",
    "Ways to sort list of dictionaries by values in Python – Using itemgetter\n",
    "\n",
    "Ways to sort list of dictionaries by values in Python – Using lambda function\n",
    "\n",
    "Python | Merging two Dictionaries\n",
    "\n",
    "Program to create grade calculator in Python\n",
    "\n",
    "Python | Check order of character in string using OrderedDict( )\n",
    "\n",
    "Python | Find common elements in three sorted arrays by dictionary intersection\n",
    "\n",
    "Dictionary and counter in Python to find winner of election\n",
    "\n",
    "Find all duplicate characters in string\n",
    "\n",
    "Print anagrams together in Python using List and Dictionary\n",
    "\n",
    "K’th Non-repeating Character in Python using List Comprehension and OrderedDict\n",
    "\n",
    "Check if binary representations of two numbers are anagram\n",
    "\n",
    "Python Counter to find the size of largest subset of anagram words\n",
    "\n",
    "Python | Remove all duplicates words from a given sentence\n",
    "\n",
    "Python Dictionary to find mirror characters in a string\n",
    "\n",
    "Counting the frequencies in a list using dictionary in Python\n",
    "\n",
    "Python | Convert a list of Tuples into Dictionary\n",
    "\n",
    "Python counter and dictionary intersection example (Make a string using deletion and rearrangement)\n",
    "\n",
    "Python dictionary, set and counter to check if frequencies can become same\n",
    "\n",
    "Scraping And Finding Ordered Words In A Dictionary using Python\n",
    "\n",
    "Possible Words using given characters in Python"
   ]
  },
  {
   "cell_type": "markdown",
   "metadata": {},
   "source": [
    "## Sort Dictionaries by key / Value"
   ]
  },
  {
   "cell_type": "code",
   "execution_count": 11,
   "metadata": {},
   "outputs": [
    {
     "name": "stdout",
     "output_type": "stream",
     "text": [
      "Dictionary keys [(1, 26), (2, 3), (3, 14), (4, 8), (5, 85), (6, 19), (7, 78)]\n",
      "Dictionary keys [(2, 3), (4, 8), (3, 14), (6, 19), (1, 26), (7, 78), (5, 85)]\n"
     ]
    }
   ],
   "source": [
    "# https://www.geeksforgeeks.org/python-sort-python-dictionaries-by-key-or-value/\n",
    "def dictionary(dict1):\n",
    "    \"\"\"Function to capturing dictionary\"\"\"\n",
    "   \n",
    "    keyList=[]\n",
    "    for i in dict1.keys():\n",
    "        keyList.append(i)\n",
    "    keyValList=[]\n",
    "    for i in sorted(dict1):\n",
    "        keyValList.append((i,dict1[i]))\n",
    "    \n",
    "    #return keyList\n",
    "    #return dict1.keys()\n",
    "    return keyValList\n",
    "\n",
    "def dictSortVal(dict1):\n",
    "    \"\"\"Function to sort dictionary by value\"\"\"\n",
    "    return sorted(dict1.items(),key=lambda kv: (kv[1],kv[0]))\n",
    "\n",
    "dict1={}\n",
    "dict1[1]=26\n",
    "dict1[4]=8\n",
    "dict1[2]=3\n",
    "dict1[7]=78\n",
    "dict1[3]=14\n",
    "dict1[5]=85\n",
    "dict1[6]=19\n",
    "\n",
    "print(\"Dictionary keys {}\".format(dictionary(dict1)))\n",
    "print(\"Dictionary keys {}\".format(dictSortVal(dict1)))\n",
    "\n",
    "    "
   ]
  },
  {
   "cell_type": "markdown",
   "metadata": {},
   "source": [
    "## Missing keys in Dictionary"
   ]
  },
  {
   "cell_type": "code",
   "execution_count": 16,
   "metadata": {},
   "outputs": [
    {
     "name": "stdout",
     "output_type": "stream",
     "text": [
      "Value of None\n",
      "Value of name in dict3 is Chaitanya\n",
      "Value of degree in dict3 is Key Not found\n"
     ]
    }
   ],
   "source": [
    "dict2={}\n",
    "dict2['a']=1\n",
    "dict2['b']=2\n",
    "print(\"Value of {}\".format(dict2.get('c')))\n",
    "\n",
    "import collections\n",
    "dict3=collections.defaultdict(lambda: \"Key Not found\")\n",
    "dict3[\"name\"]=\"Chaitanya\"\n",
    "dict3[\"age\"]=35\n",
    "\n",
    "print(\"Value of name in dict3 is {}\".format(dict3[\"name\"]))\n",
    "print(\"Value of degree in dict3 is {}\".format(dict3[\"degree\"]))\n",
    "\n"
   ]
  },
  {
   "cell_type": "markdown",
   "metadata": {},
   "source": [
    "## Dict with keys having multiple inputs"
   ]
  },
  {
   "cell_type": "code",
   "execution_count": 18,
   "metadata": {},
   "outputs": [
    {
     "name": "stdout",
     "output_type": "stream",
     "text": [
      "Dictionary 4 is {(10, 20, 30): 0, (5, 2, 4): 3}\n"
     ]
    }
   ],
   "source": [
    "dict4={}\n",
    "x,y,z=10,20,30\n",
    "dict4[x,y,z]=x+y-z\n",
    "\n",
    "x,y,z=5,2,4\n",
    "dict4[x,y,z]=x+y-z\n",
    "\n",
    "print(\"Dictionary 4 is {}\".format(dict4))"
   ]
  },
  {
   "cell_type": "code",
   "execution_count": null,
   "metadata": {},
   "outputs": [],
   "source": []
  }
 ],
 "metadata": {
  "kernelspec": {
   "display_name": "Python 3",
   "language": "python",
   "name": "python3"
  },
  "language_info": {
   "codemirror_mode": {
    "name": "ipython",
    "version": 3
   },
   "file_extension": ".py",
   "mimetype": "text/x-python",
   "name": "python",
   "nbconvert_exporter": "python",
   "pygments_lexer": "ipython3",
   "version": "3.7.6"
  }
 },
 "nbformat": 4,
 "nbformat_minor": 4
}
